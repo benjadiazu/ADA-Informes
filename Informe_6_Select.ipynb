{
  "nbformat": 4,
  "nbformat_minor": 0,
  "metadata": {
    "colab": {
      "provenance": [],
      "collapsed_sections": []
    },
    "kernelspec": {
      "name": "python3",
      "display_name": "Python 3"
    },
    "language_info": {
      "name": "python"
    }
  },
  "cells": [
    {
      "cell_type": "markdown",
      "source": [
        "**Entrada:** Conjunto $A$ con $n$ números y un entero $i$, con $1 \\leq i\\leq n$\n",
        "\n",
        "**Salida:** El i-ésimo elemento del conjunto $A$\n",
        "\n",
        "#1. Descripción del problema\n",
        "\n",
        "En la rama de la estadística, es muy importante obtener ciertos valores, como el mínimo y máximo valor de una muestra, la mediana u otros cuantiles de muestra. Entre ellos se encuentra el estadístico de orden $i$, que corresponde al i-ésimo valor más pequeño de una muestra estadística."
      ],
      "metadata": {
        "id": "4dzd7s8a1dwt"
      }
    },
    {
      "cell_type": "markdown",
      "source": [
        "# 2. Descripción del algoritmo\n",
        "\n",
        "El algoritmo **Select** nos permite encontrar el i-ésimo elemento de un arreglo. El algoritmo en cuestión utiliza diversas funciones, incluso un metodo de ordenamiento. Primero se especifica el elemento a buscar, que vendría siendo nuestro $i$, luego se busca un pivote óptimo para el arreglo, para ello se utiliza la función **PivoteSelection**.\n",
        "\n",
        "![image.png](data:image/png;base64,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)\n",
        "\n",
        "\n",
        "\n",
        "Una vez obtenido nuestro pivote se hace uso de la función **Partition**, esta se centra en ordenar los elementos del arreglo dejando los valores menores o iguales al pivote a la izquierda y los mayores a la derecha.\n",
        "\n",
        "Si $i == q$, siendo $q$ el índice, se retorna el valor del pivote, que corresponde a nuestro i-ésimo elemento que estamos buscando. Si $i < q$ se continua por el lado izquierdo del arreglo, de lo contrario se continua por la derecha. Como se muestra en la imagen\n",
        "\n",
        "![image.png](data:image/png;base64,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)\n",
        "\n",
        "\n",
        "\n",
        "\n",
        "\n",
        "**Pivote-selection:**\n",
        "\n",
        "Se divide el arreglo de entrada en grupos de 5 elementos, luego se ordena cada subarreglo con el algoritmo **InsertionSort**. Una vez ordenados, se copian las medianas de cada subarreglo en otro arreglo. Ahora obtenemos la mediana del arreglo de medianas, para ello en esta ocasión se utiliza la misma función **Pivote-selection** de manera recursiva. La mediana de las medianas corresponderá a nuestro pivote para particionar nuestro arreglo.\n",
        "\n",
        "\n",
        "![image.png](data:image/png;base64,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)"
      ],
      "metadata": {
        "id": "2lMUfuHLR0wt"
      }
    },
    {
      "cell_type": "markdown",
      "source": [
        "## Ejemplo:\n",
        "\n",
        "Supongamos que tenemos el arreglo $A = [2,7,1,8,9]$\n",
        "\n",
        "utilizamos la funcion pivote-selection para obtener un pivote adecuado.\n",
        "\n",
        "**pivote-Selection:**\n",
        "\n",
        "separamos el arreglo en subarreglos de 5 elementos, en esta caso solo es uno. Luego lo ordenamos utilizando **InsertionSort**, Nos queda:\n",
        "\n",
        "$[1,2,7,8,9]$\n",
        "\n",
        "Obtenemos la mediana: 7\n",
        "\n",
        "lo agregamos en nuestro arreglo de medianas.\n",
        "\n",
        "Ahora obtenemos la mediana de las medianas, en este caso solo es uno, por lo tanto retorna 7\n",
        "\n",
        "Ahora ocupamos el valor 7 como pivote para la función **Partition**. Nos queda el mismo arreglo $[1,2,7,8,9]$\n",
        "\n",
        "Comparamos si 7 es igual a nuestro i-ésimo elemento. Como no lo es seguimos en el subarreglo de la izquierda. $[1,2]$\n",
        "\n",
        "Seguimos los pasos anteriores y nos queda que 2 es igual al i-ésimo elemento a buscar, por lo tanto retorna 2\n",
        "\n",
        "\n"
      ],
      "metadata": {
        "id": "plUphwgGQ4aW"
      }
    },
    {
      "cell_type": "markdown",
      "source": [
        "# 3. Código"
      ],
      "metadata": {
        "id": "tgdOzTfFlTHd"
      }
    },
    {
      "cell_type": "code",
      "execution_count": 148,
      "metadata": {
        "id": "XvPwQkK40_Jb",
        "colab": {
          "base_uri": "https://localhost:8080/"
        },
        "outputId": "5a49a730-d1a5-4fd8-d150-203fb82e518a"
      },
      "outputs": [
        {
          "output_type": "stream",
          "name": "stdout",
          "text": [
            "i-ésimo elemento: 2\n"
          ]
        }
      ],
      "source": [
        "import random\n",
        "from termcolor import colored\n",
        "import copy\n",
        "\n",
        "def insertion_sort(a):\n",
        "  n = len(a)\n",
        "  for i in range (1,len(a)):\n",
        "    key = a[i]\n",
        "    for k in range (i - 1,-1,-1):\n",
        "      if a[k] < key:\n",
        "        a[k + 1] = key\n",
        "        break\n",
        "      a[k + 1] = a[k]\n",
        "      a[k] = key\n",
        "    if key < a[0]:\n",
        "      a[0] = key\n",
        "\n",
        "  return a\n",
        "\n",
        "\n",
        "def partition (A, piv):\n",
        "\n",
        "\n",
        "  min = 0\n",
        "  max = len(A)-1\n",
        "  i = 0\n",
        "  pivIndex = -1\n",
        "  for k in range (0, len(A)):\n",
        "\n",
        "    if (A[k] <= piv):\n",
        "      A[i], A[k] = A[k], A[i]\n",
        "      i += 1\n",
        "      #Encontrar la posición del pivote\n",
        "      if (A[i-1] == piv):\n",
        "        pivIndex = i-1\n",
        "\n",
        "\n",
        "  A[i-1], A[pivIndex] = A[pivIndex], A[i-1]\n",
        "  return i-1\n",
        "\n",
        "\n",
        "def pivotSelection(A,low,high):\n",
        "  opcion = False\n",
        "  A = A[low:high]\n",
        "  if (len(A) == 1):\n",
        "    aux = A[0]\n",
        "    return aux\n",
        "\n",
        "  medianas = []\n",
        "  cant_divisiones = len(A) // 5\n",
        "  if cant_divisiones == 0:\n",
        "    cant_divisiones = 1\n",
        "\n",
        "  if cant_divisiones % 5 != 0:\n",
        "    opcion = True\n",
        "\n",
        "  i = 0\n",
        "  while i < cant_divisiones:\n",
        "    subArreglo = insertion_sort(A[i*5:(i+1)*5])\n",
        "    median = subArreglo[len(subArreglo) // 2]\n",
        "    medianas.append(median)\n",
        "    i += 1\n",
        "\n",
        "\n",
        "  if opcion == True: \n",
        "    subArreglo = insertion_sort(A[i*5:])\n",
        "    if len(subArreglo) != 0:\n",
        "      median = subArreglo[int(len(subArreglo) / 2)]\n",
        "      medianas.append(median)\n",
        "\n",
        "  return pivotSelection(medianas,low,len(medianas))\n",
        "\n",
        "\n",
        "def select(A,low,high,i):\n",
        "  pivote = pivotSelection(A,low,high)\n",
        "  q = partition(A,pivote)\n",
        "  \n",
        "\n",
        "  if (q == i-1):\n",
        "    return A[q]\n",
        "  elif ((i-1) < q):\n",
        "    return select(A,low,q,i)\n",
        "  else:\n",
        "    return select(A,q+1,high,i)\n",
        "\n",
        "A = [4,7,1,0,5,8,12,6,2,14,9]\n",
        "low = 0\n",
        "high = len(A) \n",
        "valor = select(A,low,high,3)\n",
        "print(\"i-ésimo elemento:\",valor)"
      ]
    },
    {
      "cell_type": "code",
      "source": [],
      "metadata": {
        "id": "U1IccS48lV5V"
      },
      "execution_count": null,
      "outputs": []
    },
    {
      "cell_type": "markdown",
      "source": [
        "# 4. Tiempo de ejecución\n",
        "\n",
        "$Lema:$ el tiempo de ejecución del algoritmo Select es de complejidad $O(n)$. \n",
        "\n",
        "Iremos analizando paso a paso el recorrido que realiza el algoritmo para establecer una relación de recurrencia:\n",
        "\n",
        "* Primero el algoritmo Pivot-Selection busca la mediana de las medianas, sabiendo cómo funciona esto podemos decir que está definida como $T(n/5)$.\n",
        "\n",
        "* El algoritmo Partition tiene una complejidad de tiempo $O(n)$.\n",
        "\n",
        "Para determinar la función recursiva que se genera en Select al separar el arreglo en dos casos, si no se ha encontrado el k-ésimo dato al finalizar Partition debemos saber que:\n",
        "\n",
        "* Al menos la mitad de las medianas que se encontraron en Pivot-Selection son mayores o igual que la mediana verdadera obtenida al finalizar este algoritmo. Esto nos dice que como mínimo la mitad de los grupos de medianas aportan 3 datos mayores que la mediana verdadera, con excepción del último grupo, ya que este tiene a lo más 5 elementos. A partir de lo anterior surge la siguiente proporción.\n",
        "\n",
        "      [1/2 * n/5]*3 => 3n/10\n",
        "\n",
        "\n",
        "* Dado que al menos tres elementos son mayores que la mediana verdadera, nos indica que la función se repite a lo más 7n/10 veces.\n",
        "\n",
        "      n - 3n/10 => 7n/10\n",
        "\n",
        "\n",
        "Con esto claro podemos establecer que la relación de recurrencia para el algoritmo completo es:\n",
        "\n",
        "    T(n) = T(n/5) + T(7n/10) + O(n)\n",
        "\n",
        "Para probar que el tiempo de ejecución es $O(n)$ se debe aplicar sustitución, puesto que cualquier otro método sería inconveniente o no resultaría.\n",
        "\n",
        "    T(n) <= cn/5 + 7cn/10 + dn\n",
        "\n",
        "    T(n) <= 9cn/10 + dn => O(n)\n",
        "\n",
        "En conclusión, el algoritmo Select tiene complejidad temporal $O(n)$, también se puede apreciar que tiene constantes muy grandes, debido al proceso de escoger la mediana verdadera y las particiones que realiza.\n"
      ],
      "metadata": {
        "id": "qPhN3R1A-UJi"
      }
    },
    {
      "cell_type": "markdown",
      "source": [],
      "metadata": {
        "id": "Iz-b-1kTE2UL"
      }
    },
    {
      "cell_type": "markdown",
      "source": [
        "# 5. Correctitud\n",
        "\n",
        "**Inducción matemática**\n",
        "\n",
        "Para probar la correctitud, utilizaremos el metodo de inducción matemática, básicamente consisten en que si queremos probar alguna declaración $P(n)$ debemos probar un par de condiciones.\n",
        "\n",
        "1. Probar un caso base para $P(n)$ como $P(1)$\n",
        "2. Probar que si $P(m)$ es verdad para m < n, entonces P(n) también lo es.\n",
        "\n",
        "Consideremos un caso base de $P(1)$ cuando solo hay un elemento en nuestro subarreglo, en ese caso nuestro i-ésimo elemento más pequeño corresponderá al unico elemento presente.\n",
        "\n",
        "Cuando obtenemos el pivote y lo comparamos con nuestro i-ésimo elemento a buscar, en caso de que no corresponda se particiona el arreglo. Si el i-esimo elemento es menor al pivote se continua por el subarreglo de la izquierda, si el i-ésimo elemento es mayor al pivote se continua por la derecha. Con esto se minimiza el tamaño de cada subarreglo $m$ con cada llamada recursiva, cumpliendo la condición de P(m) es verdad para m < n\n",
        "\n",
        "Con lo anteriormente comprobado, podemos concluir que la correctitud para el algoritmo **Select** es correcta.\n",
        "\n",
        "\n"
      ],
      "metadata": {
        "id": "9QBfT2ooFGbG"
      }
    },
    {
      "cell_type": "markdown",
      "source": [
        "# 6. Experimentos\n",
        "\n",
        "A continuación compararemos los algoritmos **Selection** y **Randonmized-Select**, para ello estableceremos un tamaño del problema de $n \\in [5,499], con valores entre 1 y 500\n"
      ],
      "metadata": {
        "id": "92D41acqRaLh"
      }
    },
    {
      "cell_type": "code",
      "source": [
        "def RandomSelection (A):\n",
        "  #Escoger un número aleatorio del arreglo\n",
        "  randNum = random.choice(A)\n",
        "  #Devolver el pivote.\n",
        "  return randNum\n",
        "\n",
        "def r_selection(A, i):\n",
        "  #Encontrar un pivote.\n",
        "  piv = RandomSelection(A)\n",
        "\n",
        "  #Reorganizar el arreglo con Partition y obtener la posición del pivote.\n",
        "  pivIndex = partition(A, piv)\n",
        "\n",
        "  #Verificar si el pivote es el estadístico de orden buscado.\n",
        "  if (pivIndex == i-1):\n",
        "    return A[pivIndex]\n",
        "  if (i-1 < pivIndex):\n",
        "    return select(A,low,piv,i)\n",
        "  if (i-1 > pivIndex):\n",
        "    return select(A,piv+1,high,i)\n",
        "\n",
        "  #Retornar el estadístico de orden.\n",
        "  return A"
      ],
      "metadata": {
        "id": "qCXaD2ujkOyX"
      },
      "execution_count": 142,
      "outputs": []
    },
    {
      "cell_type": "code",
      "source": [
        "import random\n",
        "from matplotlib import cm\n",
        "import matplotlib.pyplot as plt\n",
        "import datetime\n",
        "from timeit import repeat\n",
        "\n",
        "x=[]; y=[]\n",
        "\n",
        "for n in range(5,200):\n",
        "\n",
        "  a = random.sample(range(1, 240), n)\n",
        "  i = random.randint(0,len(a)-1)\n",
        "  low = 0\n",
        "  high = len(a)\n",
        "\n",
        "  t = repeat(setup=\"from __main__ import select\", stmt=f\"select({a},{low},{high},{i})\", repeat=1, number=10)\n",
        "  x.append(n)\n",
        "  y.append(t)\n",
        "\n",
        "plt.plot(x,y)\n",
        "plt.legend([\"asd\"])\n",
        "\n",
        "\n",
        "plt.xlabel('tamaño del arreglo')\n",
        "plt.ylabel('Tiempo')\n",
        "plt.show()"
      ],
      "metadata": {
        "colab": {
          "base_uri": "https://localhost:8080/",
          "height": 380
        },
        "id": "Xm_T2vUUg4Ja",
        "outputId": "6f4f550f-0a5e-4ef0-ab0e-5e2c4577dde5"
      },
      "execution_count": 147,
      "outputs": [
        {
          "output_type": "error",
          "ename": "IndexError",
          "evalue": "ignored",
          "traceback": [
            "\u001b[0;31m---------------------------------------------------------------------------\u001b[0m",
            "\u001b[0;31mIndexError\u001b[0m                                Traceback (most recent call last)",
            "\u001b[0;32m<ipython-input-147-3b4306b3dc08>\u001b[0m in \u001b[0;36m<module>\u001b[0;34m\u001b[0m\n\u001b[1;32m     14\u001b[0m   \u001b[0mhigh\u001b[0m \u001b[0;34m=\u001b[0m \u001b[0mlen\u001b[0m\u001b[0;34m(\u001b[0m\u001b[0ma\u001b[0m\u001b[0;34m)\u001b[0m\u001b[0;34m\u001b[0m\u001b[0;34m\u001b[0m\u001b[0m\n\u001b[1;32m     15\u001b[0m \u001b[0;34m\u001b[0m\u001b[0m\n\u001b[0;32m---> 16\u001b[0;31m   \u001b[0mt\u001b[0m \u001b[0;34m=\u001b[0m \u001b[0mrepeat\u001b[0m\u001b[0;34m(\u001b[0m\u001b[0msetup\u001b[0m\u001b[0;34m=\u001b[0m\u001b[0;34m\"from __main__ import select\"\u001b[0m\u001b[0;34m,\u001b[0m \u001b[0mstmt\u001b[0m\u001b[0;34m=\u001b[0m\u001b[0;34mf\"select({a},{low},{high},{i})\"\u001b[0m\u001b[0;34m,\u001b[0m \u001b[0mrepeat\u001b[0m\u001b[0;34m=\u001b[0m\u001b[0;36m1\u001b[0m\u001b[0;34m,\u001b[0m \u001b[0mnumber\u001b[0m\u001b[0;34m=\u001b[0m\u001b[0;36m10\u001b[0m\u001b[0;34m)\u001b[0m\u001b[0;34m\u001b[0m\u001b[0;34m\u001b[0m\u001b[0m\n\u001b[0m\u001b[1;32m     17\u001b[0m   \u001b[0mx\u001b[0m\u001b[0;34m.\u001b[0m\u001b[0mappend\u001b[0m\u001b[0;34m(\u001b[0m\u001b[0mn\u001b[0m\u001b[0;34m)\u001b[0m\u001b[0;34m\u001b[0m\u001b[0;34m\u001b[0m\u001b[0m\n\u001b[1;32m     18\u001b[0m   \u001b[0my\u001b[0m\u001b[0;34m.\u001b[0m\u001b[0mappend\u001b[0m\u001b[0;34m(\u001b[0m\u001b[0mt\u001b[0m\u001b[0;34m)\u001b[0m\u001b[0;34m\u001b[0m\u001b[0;34m\u001b[0m\u001b[0m\n",
            "\u001b[0;32m/usr/lib/python3.7/timeit.py\u001b[0m in \u001b[0;36mrepeat\u001b[0;34m(stmt, setup, timer, repeat, number, globals)\u001b[0m\n\u001b[1;32m    236\u001b[0m            repeat=default_repeat, number=default_number, globals=None):\n\u001b[1;32m    237\u001b[0m     \u001b[0;34m\"\"\"Convenience function to create Timer object and call repeat method.\"\"\"\u001b[0m\u001b[0;34m\u001b[0m\u001b[0;34m\u001b[0m\u001b[0m\n\u001b[0;32m--> 238\u001b[0;31m     \u001b[0;32mreturn\u001b[0m \u001b[0mTimer\u001b[0m\u001b[0;34m(\u001b[0m\u001b[0mstmt\u001b[0m\u001b[0;34m,\u001b[0m \u001b[0msetup\u001b[0m\u001b[0;34m,\u001b[0m \u001b[0mtimer\u001b[0m\u001b[0;34m,\u001b[0m \u001b[0mglobals\u001b[0m\u001b[0;34m)\u001b[0m\u001b[0;34m.\u001b[0m\u001b[0mrepeat\u001b[0m\u001b[0;34m(\u001b[0m\u001b[0mrepeat\u001b[0m\u001b[0;34m,\u001b[0m \u001b[0mnumber\u001b[0m\u001b[0;34m)\u001b[0m\u001b[0;34m\u001b[0m\u001b[0;34m\u001b[0m\u001b[0m\n\u001b[0m\u001b[1;32m    239\u001b[0m \u001b[0;34m\u001b[0m\u001b[0m\n\u001b[1;32m    240\u001b[0m \u001b[0;32mdef\u001b[0m \u001b[0mmain\u001b[0m\u001b[0;34m(\u001b[0m\u001b[0margs\u001b[0m\u001b[0;34m=\u001b[0m\u001b[0;32mNone\u001b[0m\u001b[0;34m,\u001b[0m \u001b[0;34m*\u001b[0m\u001b[0;34m,\u001b[0m \u001b[0m_wrap_timer\u001b[0m\u001b[0;34m=\u001b[0m\u001b[0;32mNone\u001b[0m\u001b[0;34m)\u001b[0m\u001b[0;34m:\u001b[0m\u001b[0;34m\u001b[0m\u001b[0;34m\u001b[0m\u001b[0m\n",
            "\u001b[0;32m/usr/lib/python3.7/timeit.py\u001b[0m in \u001b[0;36mrepeat\u001b[0;34m(self, repeat, number)\u001b[0m\n\u001b[1;32m    203\u001b[0m         \u001b[0mr\u001b[0m \u001b[0;34m=\u001b[0m \u001b[0;34m[\u001b[0m\u001b[0;34m]\u001b[0m\u001b[0;34m\u001b[0m\u001b[0;34m\u001b[0m\u001b[0m\n\u001b[1;32m    204\u001b[0m         \u001b[0;32mfor\u001b[0m \u001b[0mi\u001b[0m \u001b[0;32min\u001b[0m \u001b[0mrange\u001b[0m\u001b[0;34m(\u001b[0m\u001b[0mrepeat\u001b[0m\u001b[0;34m)\u001b[0m\u001b[0;34m:\u001b[0m\u001b[0;34m\u001b[0m\u001b[0;34m\u001b[0m\u001b[0m\n\u001b[0;32m--> 205\u001b[0;31m             \u001b[0mt\u001b[0m \u001b[0;34m=\u001b[0m \u001b[0mself\u001b[0m\u001b[0;34m.\u001b[0m\u001b[0mtimeit\u001b[0m\u001b[0;34m(\u001b[0m\u001b[0mnumber\u001b[0m\u001b[0;34m)\u001b[0m\u001b[0;34m\u001b[0m\u001b[0;34m\u001b[0m\u001b[0m\n\u001b[0m\u001b[1;32m    206\u001b[0m             \u001b[0mr\u001b[0m\u001b[0;34m.\u001b[0m\u001b[0mappend\u001b[0m\u001b[0;34m(\u001b[0m\u001b[0mt\u001b[0m\u001b[0;34m)\u001b[0m\u001b[0;34m\u001b[0m\u001b[0;34m\u001b[0m\u001b[0m\n\u001b[1;32m    207\u001b[0m         \u001b[0;32mreturn\u001b[0m \u001b[0mr\u001b[0m\u001b[0;34m\u001b[0m\u001b[0;34m\u001b[0m\u001b[0m\n",
            "\u001b[0;32m/usr/lib/python3.7/timeit.py\u001b[0m in \u001b[0;36mtimeit\u001b[0;34m(self, number)\u001b[0m\n\u001b[1;32m    175\u001b[0m         \u001b[0mgc\u001b[0m\u001b[0;34m.\u001b[0m\u001b[0mdisable\u001b[0m\u001b[0;34m(\u001b[0m\u001b[0;34m)\u001b[0m\u001b[0;34m\u001b[0m\u001b[0;34m\u001b[0m\u001b[0m\n\u001b[1;32m    176\u001b[0m         \u001b[0;32mtry\u001b[0m\u001b[0;34m:\u001b[0m\u001b[0;34m\u001b[0m\u001b[0;34m\u001b[0m\u001b[0m\n\u001b[0;32m--> 177\u001b[0;31m             \u001b[0mtiming\u001b[0m \u001b[0;34m=\u001b[0m \u001b[0mself\u001b[0m\u001b[0;34m.\u001b[0m\u001b[0minner\u001b[0m\u001b[0;34m(\u001b[0m\u001b[0mit\u001b[0m\u001b[0;34m,\u001b[0m \u001b[0mself\u001b[0m\u001b[0;34m.\u001b[0m\u001b[0mtimer\u001b[0m\u001b[0;34m)\u001b[0m\u001b[0;34m\u001b[0m\u001b[0;34m\u001b[0m\u001b[0m\n\u001b[0m\u001b[1;32m    178\u001b[0m         \u001b[0;32mfinally\u001b[0m\u001b[0;34m:\u001b[0m\u001b[0;34m\u001b[0m\u001b[0;34m\u001b[0m\u001b[0m\n\u001b[1;32m    179\u001b[0m             \u001b[0;32mif\u001b[0m \u001b[0mgcold\u001b[0m\u001b[0;34m:\u001b[0m\u001b[0;34m\u001b[0m\u001b[0;34m\u001b[0m\u001b[0m\n",
            "\u001b[0;32m/usr/lib/python3.7/timeit.py\u001b[0m in \u001b[0;36minner\u001b[0;34m(_it, _timer)\u001b[0m\n",
            "\u001b[0;32m<ipython-input-139-e035f16d3e72>\u001b[0m in \u001b[0;36mselect\u001b[0;34m(A, low, high, i)\u001b[0m\n\u001b[1;32m     82\u001b[0m     \u001b[0;32mreturn\u001b[0m \u001b[0mselect\u001b[0m\u001b[0;34m(\u001b[0m\u001b[0mA\u001b[0m\u001b[0;34m,\u001b[0m\u001b[0mlow\u001b[0m\u001b[0;34m,\u001b[0m\u001b[0mq\u001b[0m\u001b[0;34m,\u001b[0m\u001b[0mi\u001b[0m\u001b[0;34m)\u001b[0m\u001b[0;34m\u001b[0m\u001b[0;34m\u001b[0m\u001b[0m\n\u001b[1;32m     83\u001b[0m   \u001b[0;32melse\u001b[0m\u001b[0;34m:\u001b[0m\u001b[0;34m\u001b[0m\u001b[0;34m\u001b[0m\u001b[0m\n\u001b[0;32m---> 84\u001b[0;31m     \u001b[0;32mreturn\u001b[0m \u001b[0mselect\u001b[0m\u001b[0;34m(\u001b[0m\u001b[0mA\u001b[0m\u001b[0;34m,\u001b[0m\u001b[0mq\u001b[0m\u001b[0;34m+\u001b[0m\u001b[0;36m1\u001b[0m\u001b[0;34m,\u001b[0m\u001b[0mhigh\u001b[0m\u001b[0;34m,\u001b[0m\u001b[0mi\u001b[0m\u001b[0;34m)\u001b[0m\u001b[0;34m\u001b[0m\u001b[0;34m\u001b[0m\u001b[0m\n\u001b[0m\u001b[1;32m     85\u001b[0m \u001b[0;34m\u001b[0m\u001b[0m\n\u001b[1;32m     86\u001b[0m \u001b[0mA\u001b[0m \u001b[0;34m=\u001b[0m \u001b[0;34m[\u001b[0m\u001b[0;36m4\u001b[0m\u001b[0;34m,\u001b[0m\u001b[0;36m7\u001b[0m\u001b[0;34m,\u001b[0m\u001b[0;36m1\u001b[0m\u001b[0;34m,\u001b[0m\u001b[0;36m0\u001b[0m\u001b[0;34m,\u001b[0m\u001b[0;36m5\u001b[0m\u001b[0;34m,\u001b[0m\u001b[0;36m8\u001b[0m\u001b[0;34m,\u001b[0m\u001b[0;36m12\u001b[0m\u001b[0;34m,\u001b[0m\u001b[0;36m6\u001b[0m\u001b[0;34m,\u001b[0m\u001b[0;36m2\u001b[0m\u001b[0;34m,\u001b[0m\u001b[0;36m14\u001b[0m\u001b[0;34m,\u001b[0m\u001b[0;36m9\u001b[0m\u001b[0;34m]\u001b[0m\u001b[0;34m\u001b[0m\u001b[0;34m\u001b[0m\u001b[0m\n",
            "\u001b[0;32m<ipython-input-139-e035f16d3e72>\u001b[0m in \u001b[0;36mselect\u001b[0;34m(A, low, high, i)\u001b[0m\n\u001b[1;32m     73\u001b[0m \u001b[0;34m\u001b[0m\u001b[0m\n\u001b[1;32m     74\u001b[0m \u001b[0;32mdef\u001b[0m \u001b[0mselect\u001b[0m\u001b[0;34m(\u001b[0m\u001b[0mA\u001b[0m\u001b[0;34m,\u001b[0m\u001b[0mlow\u001b[0m\u001b[0;34m,\u001b[0m\u001b[0mhigh\u001b[0m\u001b[0;34m,\u001b[0m\u001b[0mi\u001b[0m\u001b[0;34m)\u001b[0m\u001b[0;34m:\u001b[0m\u001b[0;34m\u001b[0m\u001b[0;34m\u001b[0m\u001b[0m\n\u001b[0;32m---> 75\u001b[0;31m   \u001b[0mpivote\u001b[0m \u001b[0;34m=\u001b[0m \u001b[0mpivotSelection\u001b[0m\u001b[0;34m(\u001b[0m\u001b[0mA\u001b[0m\u001b[0;34m,\u001b[0m\u001b[0mlow\u001b[0m\u001b[0;34m,\u001b[0m\u001b[0mhigh\u001b[0m\u001b[0;34m)\u001b[0m\u001b[0;34m\u001b[0m\u001b[0;34m\u001b[0m\u001b[0m\n\u001b[0m\u001b[1;32m     76\u001b[0m   \u001b[0mq\u001b[0m \u001b[0;34m=\u001b[0m \u001b[0mpartition\u001b[0m\u001b[0;34m(\u001b[0m\u001b[0mA\u001b[0m\u001b[0;34m,\u001b[0m\u001b[0mpivote\u001b[0m\u001b[0;34m)\u001b[0m\u001b[0;34m\u001b[0m\u001b[0;34m\u001b[0m\u001b[0m\n\u001b[1;32m     77\u001b[0m \u001b[0;34m\u001b[0m\u001b[0m\n",
            "\u001b[0;32m<ipython-input-139-e035f16d3e72>\u001b[0m in \u001b[0;36mpivotSelection\u001b[0;34m(A, low, high)\u001b[0m\n\u001b[1;32m     69\u001b[0m       \u001b[0mmedianas\u001b[0m\u001b[0;34m.\u001b[0m\u001b[0mappend\u001b[0m\u001b[0;34m(\u001b[0m\u001b[0mmedian\u001b[0m\u001b[0;34m)\u001b[0m\u001b[0;34m\u001b[0m\u001b[0;34m\u001b[0m\u001b[0m\n\u001b[1;32m     70\u001b[0m \u001b[0;34m\u001b[0m\u001b[0m\n\u001b[0;32m---> 71\u001b[0;31m   \u001b[0;32mreturn\u001b[0m \u001b[0mpivotSelection\u001b[0m\u001b[0;34m(\u001b[0m\u001b[0mmedianas\u001b[0m\u001b[0;34m,\u001b[0m\u001b[0mlow\u001b[0m\u001b[0;34m,\u001b[0m\u001b[0mlen\u001b[0m\u001b[0;34m(\u001b[0m\u001b[0mmedianas\u001b[0m\u001b[0;34m)\u001b[0m\u001b[0;34m)\u001b[0m\u001b[0;34m\u001b[0m\u001b[0;34m\u001b[0m\u001b[0m\n\u001b[0m\u001b[1;32m     72\u001b[0m \u001b[0;34m\u001b[0m\u001b[0m\n\u001b[1;32m     73\u001b[0m \u001b[0;34m\u001b[0m\u001b[0m\n",
            "\u001b[0;32m<ipython-input-139-e035f16d3e72>\u001b[0m in \u001b[0;36mpivotSelection\u001b[0;34m(A, low, high)\u001b[0m\n\u001b[1;32m     58\u001b[0m   \u001b[0;32mwhile\u001b[0m \u001b[0mi\u001b[0m \u001b[0;34m<\u001b[0m \u001b[0mcant_divisiones\u001b[0m\u001b[0;34m:\u001b[0m\u001b[0;34m\u001b[0m\u001b[0;34m\u001b[0m\u001b[0m\n\u001b[1;32m     59\u001b[0m     \u001b[0msubArreglo\u001b[0m \u001b[0;34m=\u001b[0m \u001b[0minsertion_sort\u001b[0m\u001b[0;34m(\u001b[0m\u001b[0mA\u001b[0m\u001b[0;34m[\u001b[0m\u001b[0mi\u001b[0m\u001b[0;34m*\u001b[0m\u001b[0;36m5\u001b[0m\u001b[0;34m:\u001b[0m\u001b[0;34m(\u001b[0m\u001b[0mi\u001b[0m\u001b[0;34m+\u001b[0m\u001b[0;36m1\u001b[0m\u001b[0;34m)\u001b[0m\u001b[0;34m*\u001b[0m\u001b[0;36m5\u001b[0m\u001b[0;34m]\u001b[0m\u001b[0;34m)\u001b[0m\u001b[0;34m\u001b[0m\u001b[0;34m\u001b[0m\u001b[0m\n\u001b[0;32m---> 60\u001b[0;31m     \u001b[0mmedian\u001b[0m \u001b[0;34m=\u001b[0m \u001b[0msubArreglo\u001b[0m\u001b[0;34m[\u001b[0m\u001b[0mlen\u001b[0m\u001b[0;34m(\u001b[0m\u001b[0msubArreglo\u001b[0m\u001b[0;34m)\u001b[0m \u001b[0;34m//\u001b[0m \u001b[0;36m2\u001b[0m\u001b[0;34m]\u001b[0m\u001b[0;34m\u001b[0m\u001b[0;34m\u001b[0m\u001b[0m\n\u001b[0m\u001b[1;32m     61\u001b[0m     \u001b[0mmedianas\u001b[0m\u001b[0;34m.\u001b[0m\u001b[0mappend\u001b[0m\u001b[0;34m(\u001b[0m\u001b[0mmedian\u001b[0m\u001b[0;34m)\u001b[0m\u001b[0;34m\u001b[0m\u001b[0;34m\u001b[0m\u001b[0m\n\u001b[1;32m     62\u001b[0m     \u001b[0mi\u001b[0m \u001b[0;34m+=\u001b[0m \u001b[0;36m1\u001b[0m\u001b[0;34m\u001b[0m\u001b[0;34m\u001b[0m\u001b[0m\n",
            "\u001b[0;31mIndexError\u001b[0m: list index out of range"
          ]
        }
      ]
    }
  ]
}

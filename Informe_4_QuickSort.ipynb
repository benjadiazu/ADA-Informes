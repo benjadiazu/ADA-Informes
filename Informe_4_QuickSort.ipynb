{
  "nbformat": 4,
  "nbformat_minor": 0,
  "metadata": {
    "colab": {
      "provenance": [],
      "collapsed_sections": []
    },
    "kernelspec": {
      "name": "python3",
      "display_name": "Python 3"
    },
    "language_info": {
      "name": "python"
    }
  },
  "cells": [
    {
      "cell_type": "markdown",
      "source": [
        "# 1. Descripción del problema\n",
        "\n",
        "Los algoritmos de ordenamiento son un problema en área de la informática, a lo largo de los años la busqueda de distintos algoritmos o funciones que sean eficientes se ha mantenido constante, entre ellos está **QuickSort**.\n",
        "El algoritmo QuickSort es algo diferente a otros metodos de ordenamiento, ya que depende bastante de su implementación y el orden de los elementos de entrada de cuan eficiente puede llegar a ser.\n"
      ],
      "metadata": {
        "id": "18hbfq9tNtWN"
      }
    },
    {
      "cell_type": "markdown",
      "source": [
        "# 2. Descripción del algoritmo\n",
        "\n",
        "**Entrada:** Secuencia de n números $[a_1,a_2,...,a_n]$\n",
        "\n",
        "**Salida:** Permutación ordenada de la secuencia de entrada: $[a_1',a_2',...,a_n']$ de tal manera que $[a_1'\\leq a_2'\\leq...\\leq a_n']$\n",
        "\n",
        "El algoritmo **QuickSort** recibe de entrada una secuencia de números y los retorna de menor a mayor. Este algoritmo utiliza el paradigma de **divide y vencerás**, en el que dividiremos nuestro problema de entrada en instancias más pequeñas del mismo problema.\n",
        "\n",
        "El funcionamiento general del algoritmo se basa en dos funciones. Una de ellas **quickSort** propiamente tal y otra función llamada **partition**, que es la más importante.\n",
        "\n",
        "Para la compresion de estas funciones definiremos las siguientes variables.\n",
        "\n",
        "1. **«A»** corresponde a nuestro arreglo de entrada.\n",
        "2. **«r»** corresponde a nuestro índice final del arreglo.\n",
        "3. **«p»** corresponde a nuestro índice inicial del arreglo. Esta variable aumentará hasta que sea igual a **r**.« »\n",
        "4. **«q»** corresponde a nuestra mitad o pivote del arreglo."
      ],
      "metadata": {
        "id": "HXPBtTm8N4pj"
      }
    },
    {
      "cell_type": "markdown",
      "source": [
        "## 2.1 Función partition\n",
        "\n",
        "La función básicamente consistirá en dividir el arreglo en dos subarreglos y ordenarlos de una manera determinada. Tendremos $A[p..q-1]$ y $A[q+1..r]$ de manera que todos los elementos a la izquierda del arreglo, es decir, $A[p..q-1]$ sean menor o igual a **q**. Mientras que los elementos a la derecha, $A[q+1..r]$ son mayores o iguales a **q**.\n",
        "\n",
        "Tomaremos dos variables **i** y **j**. Se recorrerá el arreglo desde el índice **p** hasta el índice $r-1$. En esta ocasión se utilizará como pivote el último elemento del arreglo, de la forma x = A[r] (Se pueden utilizar como pivote otros elementos del arreglo, como se mostrará en la implementación). La función deja cuatro «secciones» en el arreglo satisfaciendo propiedades como se muestra en la imagen:"
      ],
      "metadata": {
        "id": "mQXKm-oiD5MJ"
      }
    },
    {
      "cell_type": "markdown",
      "source": [
        "![image.png](data:image/png;base64,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)"
      ],
      "metadata": {
        "id": "EIMJRMK-mL8G"
      }
    },
    {
      "cell_type": "markdown",
      "source": [
        "Cuando realizamos iteraciones se realizan las siguientes comparacione:\n",
        "1. Comparamos el elemento $A[j]$ con nuestro pivote $A[r]$. Si $A[j]$ es menor o igual a $A[r]$ realizamos un cambio entre $A[j]$ y $A[i+1]$. Aumentamos el valor de **i**.\n",
        "\n",
        "2. En cada iteración aumentamos el valor de **j**\n",
        "\n",
        "3. Al final del bucle realizamos un intercambio entre A[i+1] y A[r]. Luego retornamos **q = i + 1**, que vendría siendo nuestro elemento medio del arreglo.\n",
        "\n",
        "\n"
      ],
      "metadata": {
        "id": "oKt8z8Vcnwhk"
      }
    },
    {
      "cell_type": "markdown",
      "source": [
        "##2.2 Función quickSort\n",
        "\n",
        "La función se llama a si misma de manera recursiva para ordernar los arreglos $A[p..q-1]$ y $A[q+1..r]$.\n",
        "\n",
        "\n",
        "En el subarreglo de la izquierda tendremos elementos de la forma $A[p..q-1]$ $ \\leqq $ $A[q]$ y por el subarreglo derecho elementos de la forma $A[q]$ $>$ $A[q+1..r]$"
      ],
      "metadata": {
        "id": "Qe9QEVvBPWIH"
      }
    },
    {
      "cell_type": "markdown",
      "source": [
        "# 3. QuickSort"
      ],
      "metadata": {
        "id": "b5eXTE7wN-PN"
      }
    },
    {
      "cell_type": "markdown",
      "source": [
        "## 3.1 Partition (pivote al final)"
      ],
      "metadata": {
        "id": "uK-YNbLGOC2r"
      }
    },
    {
      "cell_type": "code",
      "source": [
        "import random\n",
        "import copy\n",
        "from termcolor import colored\n",
        "\n",
        "def partitionFinal(A,p,r,verbose):\n",
        "  global comp\n",
        "  #Definimos nuestro pivote al final del arreglo\n",
        "  pivote = A[r]\n",
        "  sorted = False\n",
        "  i = p - 1\n",
        "  j = p\n",
        "\n",
        "  \n",
        "\n",
        "  #Realizamos iteraciones hasta que j == r\n",
        "  while (j != r):\n",
        "    comp += 1\n",
        "\n",
        "    if verbose == True and sorted == False:\n",
        "        print(\"ciclo\",j+1,\"\",colored(str(A[:j])[1:-1]),str(A[j:r])[1:-1],\",\",colored(str(A[r:r+1])[1:-1],\"green\"))\n",
        "        #print(\"ciclo\",j+1,\"\",colored(str(A[:j])[1:-1],\"red\"),str(A[j:r])[1:-1],\",\",colored(str(A[r:r+1])[1:-1],\"green\"))\n",
        "    elif verbose == True and sorted == True:\n",
        "        print(\"ciclo\",j+1,\"\",colored(str(A[:j])[1:-1],\"red\"),colored(str(A[j:r])[1:-1],\"blue\"),\",\",colored(str(A[r:r+1])[1:-1],\"green\"))\n",
        "\n",
        "    if (A[j] <= pivote):\n",
        "      if (A[j] > pivote):sorted = True\n",
        "      i += 1\n",
        "      #Intercambiamos A[i] con A[j]\n",
        "      aux = A[i]\n",
        "      A[i] = A[j]\n",
        "      A[j] = aux\n",
        "      \n",
        "    j += 1\n",
        "  \n",
        "  #Intercambiamos A[i+1] con A[r]\n",
        "  aux = A[i+1]\n",
        "  A[i+1] = A[r]\n",
        "  A[r] = aux\n",
        "  if verbose == True:\n",
        "    print(\"Intercambio: \",colored(str(A[:i+1]),\"red\"),colored(str(A[i+1]),\"green\"),colored(str(A[i+2:r+1]),\"blue\"))\n",
        "    print()\n",
        "  #retornamos \"q\"\n",
        "  return i+1\n",
        "\n",
        "\n",
        "def quickSortFinal(A,p,r,verbose):\n",
        "  if p < r:\n",
        "    q = partitionFinal(A,p,r,verbose)\n",
        "\n",
        "    quickSortFinal(A,p,q-1,verbose)\n",
        "    quickSortFinal(A,q+1,r,verbose)\n",
        "\n",
        "A = random.sample(range(1,20),5)\n",
        "#A = [9, -3, 5, 2, 6, 8, -6, 1, 3]\n",
        "global comp\n",
        "comp = 0\n",
        "print(\"Input array: \",A)\n",
        "p = 0\n",
        "r = len(A)-1\n",
        "verbose = False\n",
        "quickSortFinal(A,p,r,verbose)\n",
        "print(\"Output array: \",A)\n",
        "print(\"Comparaciones: \",comp)"
      ],
      "metadata": {
        "colab": {
          "base_uri": "https://localhost:8080/"
        },
        "id": "jrgWbqJQcsts",
        "outputId": "553cf53a-5a6f-4b42-f9e1-237421f13a10"
      },
      "execution_count": 773,
      "outputs": [
        {
          "output_type": "stream",
          "name": "stdout",
          "text": [
            "Input array:  [9, 8, 11, 16, 2]\n",
            "Output array:  [2, 8, 9, 11, 16]\n",
            "Comparaciones:  8\n"
          ]
        }
      ]
    },
    {
      "cell_type": "markdown",
      "source": [
        "##3.2 Partition (pivote al ínicio)"
      ],
      "metadata": {
        "id": "aNRRFtR-OToo"
      }
    },
    {
      "cell_type": "code",
      "source": [
        "import random\n",
        "\n",
        "def partitionInicio(A,p,r):\n",
        "  global comp\n",
        "  #Definimos nuestro pivote al inicio del arreglo\n",
        "  pivote = A[p]\n",
        "\n",
        "  i = r+1\n",
        "  j = r\n",
        "\n",
        "  #Realizamos iteraciones hasta que j == r\n",
        "  while (j != p):\n",
        "    comp += 1\n",
        "    if (A[j] >= pivote):\n",
        "      i -= 1\n",
        "      #Intercambiamos A[i] con A[j]\n",
        "      aux = A[i]\n",
        "      A[i] = A[j]\n",
        "      A[j] = aux\n",
        "    j -= 1\n",
        "  \n",
        "  #Intercambiamos A[i-1] con A[r]\n",
        "  aux = A[i-1]\n",
        "  A[i-1] = A[p]\n",
        "  A[p] = aux\n",
        "\n",
        "  #retornamos \"q\"\n",
        "  return i-1\n",
        "\n",
        "\n",
        "def quickSortInicio(A,p,r):\n",
        "  if p < r:\n",
        "    q = partitionInicio(A,p,r)\n",
        "    quickSortInicio(A,p,q-1)\n",
        "    quickSortInicio(A,q+1,r)\n",
        "\n",
        "#A = [13,19,9,5,12,8,7,4,21,2,6,11]\n",
        "A = random.sample(range(1,20),5)\n",
        "global comp\n",
        "comp = 0\n",
        "print(\"Input array: \",A)\n",
        "p = 0\n",
        "r = len(A)-1\n",
        "quickSortInicio(A,p,r)\n",
        "print(\"Output array: \",A)\n",
        "print(\"Comparaciones: \",comp)"
      ],
      "metadata": {
        "colab": {
          "base_uri": "https://localhost:8080/"
        },
        "id": "POfiIIXddMWs",
        "outputId": "73ee686b-6262-4873-dbc7-dc33d81d768e"
      },
      "execution_count": 806,
      "outputs": [
        {
          "output_type": "stream",
          "name": "stdout",
          "text": [
            "Input array:  [17, 2, 13, 16, 15]\n",
            "Output array:  [2, 13, 15, 16, 17]\n",
            "Comparaciones:  8\n"
          ]
        }
      ]
    },
    {
      "cell_type": "markdown",
      "source": [
        "## 3.3 Partition (pivote en la mediada de tres elementos)"
      ],
      "metadata": {
        "id": "vfmMiutjOV5E"
      }
    },
    {
      "cell_type": "code",
      "source": [
        "import random\n",
        "\n",
        "#obtener la mediana\n",
        "def mediana(num_uno,num_dos,num_tres, A):\n",
        "    if A[num_uno] >= A[num_dos] and A[num_uno] <= A[num_tres]:\n",
        "            return num_uno\n",
        "    elif A[num_dos] >= A[num_uno] and A[num_dos] <= A[num_tres]:\n",
        "            return num_dos\n",
        "    return num_tres\n",
        "\n",
        "def partitionMedio(A,p,r):\n",
        "  global comp\n",
        "  i1 = random.randrange(p, r)\n",
        "  i2 = random.randrange(p, r)\n",
        "  i3 = random.randrange(p, r)\n",
        "  \n",
        "  indiceMed = mediana(i1,i2,i3,A)\n",
        "  #Swap\n",
        "  (A[indiceMed],A[r]) = (A[r],A[indiceMed])\n",
        "  pivote = A[r]\n",
        "\n",
        "  i = p - 1\n",
        "\n",
        "  #Entro en el ciclo de intercambios\n",
        "  for j in range(p,r):\n",
        "    comp+=1\n",
        "    if A[j] <= pivote:\n",
        "      i = i + 1\n",
        "      (A[j],A[i]) = (A[i],A[j])\n",
        "\n",
        "  (A[i+1], A[r]) = (A[r],A[i+1])\n",
        "\n",
        "\n",
        "  return i+1\n",
        "\n",
        "def quickSortMedio(A,p,r):\n",
        "  if p < r:\n",
        "    q = partitionMedio(A,p,r)\n",
        "    quickSortMedio(A,p,q-1)\n",
        "    quickSortMedio(A,q+1,r)\n",
        "\n",
        "#A = [13,19,9,5,12,8,7,4,21,2,6,11]\n",
        "A = random.sample(range(1,10),5)\n",
        "global comp\n",
        "comp = 0\n",
        "print(\"Input array: \",A)\n",
        "p = 0\n",
        "r = len(A)-1\n",
        "quickSortMedio(A,p,r)\n",
        "print(\"Output array: \",A)\n",
        "print(\"Comparaciones: \",comp)"
      ],
      "metadata": {
        "colab": {
          "base_uri": "https://localhost:8080/"
        },
        "id": "2zMzDIlniSOp",
        "outputId": "8810ec5f-43c1-4c84-e753-e19a875bb7d3"
      },
      "execution_count": 817,
      "outputs": [
        {
          "output_type": "stream",
          "name": "stdout",
          "text": [
            "Input array:  [6, 7, 1, 3, 2]\n",
            "Output array:  [1, 2, 3, 6, 7]\n",
            "Comparaciones:  7\n"
          ]
        }
      ]
    },
    {
      "cell_type": "markdown",
      "source": [
        "## 3.4 verbose == `True`"
      ],
      "metadata": {
        "id": "u69H8ybQdH2f"
      }
    },
    {
      "cell_type": "code",
      "source": [
        "import random\n",
        "A = random.sample(range(1,10),6)\n",
        "#A =  [1,3,2,7,8,9,5]\n",
        "print(\"input array: \",A,\"\\n\")\n",
        "\n",
        "quickSortFinal(A,0,len(A)-1,verbose = True)\n",
        "\n",
        "print(\"\\noutput array: \",A)\n"
      ],
      "metadata": {
        "colab": {
          "base_uri": "https://localhost:8080/"
        },
        "id": "0zQGZyTbdHj3",
        "outputId": "de1aa280-9b4b-45b6-b2e1-8fd7fe4a00e2"
      },
      "execution_count": 791,
      "outputs": [
        {
          "output_type": "stream",
          "name": "stdout",
          "text": [
            "input array:  [6, 8, 2, 3, 9, 7] \n",
            "\n",
            "ciclo 1  \u001b[0m 6, 8, 2, 3, 9 , \u001b[32m7\u001b[0m\n",
            "ciclo 2  6\u001b[0m 8, 2, 3, 9 , \u001b[32m7\u001b[0m\n",
            "ciclo 3  6, 8\u001b[0m 2, 3, 9 , \u001b[32m7\u001b[0m\n",
            "ciclo 4  6, 2, 8\u001b[0m 3, 9 , \u001b[32m7\u001b[0m\n",
            "ciclo 5  6, 2, 3, 8\u001b[0m 9 , \u001b[32m7\u001b[0m\n",
            "Intercambio:  \u001b[31m[6, 2, 3]\u001b[0m \u001b[32m7\u001b[0m \u001b[34m[9, 8]\u001b[0m\n",
            "\n",
            "ciclo 1  \u001b[0m 6, 2 , \u001b[32m3\u001b[0m\n",
            "ciclo 2  6\u001b[0m 2 , \u001b[32m3\u001b[0m\n",
            "Intercambio:  \u001b[31m[2]\u001b[0m \u001b[32m3\u001b[0m \u001b[34m[6]\u001b[0m\n",
            "\n",
            "ciclo 5  2, 3, 6, 7\u001b[0m 9 , \u001b[32m8\u001b[0m\n",
            "Intercambio:  \u001b[31m[2, 3, 6, 7]\u001b[0m \u001b[32m8\u001b[0m \u001b[34m[9]\u001b[0m\n",
            "\n",
            "\n",
            "output array:  [2, 3, 6, 7, 8, 9]\n"
          ]
        }
      ]
    },
    {
      "cell_type": "markdown",
      "source": [
        "El color rojo corresponde a los valores menores al pivote, el color verde al pivote y el color azul a los valores mayores al pivote."
      ],
      "metadata": {
        "id": "8ItRwMDkdLIP"
      }
    },
    {
      "cell_type": "markdown",
      "source": [
        "#4. Tiempo de ejecución"
      ],
      "metadata": {
        "id": "ovzEcn4tOcYc"
      }
    },
    {
      "cell_type": "markdown",
      "source": [
        "**QuickSort** posee distintos tiempos de ejecución dependiendo de diferentes casos teóricos. El mejor caso y el caso promedio poseen una misma complejidad temporal, sin embargo, el peor caso teórico es diferente. Para poder observar las distintas complejidades veamos las siguientes imágenes:\n",
        "\n",
        "## 4.1 Peor caso teórico\n",
        "\n",
        "![image.png](data:image/png;base64,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)\n",
        "\n",
        "El peor caso ocurre cuando obtenemos las particiones mas desbalanceades posibles. Entonces la llamada original de la función se realiza en un tiempo de $cn$, siendo $c$ una constante. En las llamada recursiva $n-1$ tendremos un tiempo de $c(n-1)$, en la llamada recursiva $n-2$ tendremos un tiempo de $c(n-2)$ y así con los demás niveles del árbol de recursión.\n",
        "\n",
        "En base al árbol podemos obtener la siguiente sumatoria:\n",
        "\n",
        "\\begin{align}\n",
        "        \\sum_{i=1}^n c(n-i).\n",
        "    \\end{align}\n",
        "\n",
        "Entonces podemos expresar la forma $(n-i)*n$ que nos da $n^2 - n*i$.\n",
        "El componente de mayor crecimiento es $n^2$, lo que nos da una comlejidad de $O(n^2)$"
      ],
      "metadata": {
        "id": "cG1GCUZW5OJr"
      }
    },
    {
      "cell_type": "markdown",
      "source": [
        "## 4.2 Mejor caso\n",
        "El mejor caso ocurre cuando las particiones se realizan de la manera más balanceada posible. El árbol recursivo nos quedaría así:\n",
        "\n",
        "![image.png](data:image/png;base64,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)"
      ],
      "metadata": {
        "id": "QA3RU3YdDhXn"
      }
    },
    {
      "cell_type": "markdown",
      "source": [
        "En base al árbol podemos obtener la siguiente sumatoria:\n",
        "\n",
        "\\begin{align}\n",
        "        \\sum_{i=0}^{\\log_2n}cn.\n",
        "    \\end{align}\n",
        "\n",
        "Entonces podemos expresar la forma $n(\\log_2 n + 1)$. Nos queda $n * \\log_2 n + n$. El componente de mayor crecimiento corresponde a $n * \\log_2 n$. Lo que nos da una complidad de $O(n \\log_2n)$"
      ],
      "metadata": {
        "id": "pY70YFOsGIKC"
      }
    },
    {
      "cell_type": "markdown",
      "source": [
        "## 4.3 Caso promedio\n",
        "\n",
        "\n",
        "Para analizar el caso promedio del algoritmo lo ideal sería una analisis matemático riguroso, sin embargo tambien se puede tener obtener la complejidad $O(n \\log_2 n)$ de manera intuitiva observando otro árbol de recursión.\n",
        "\n",
        "Para entender esto supongamos que tenemos una razón de 3 a 1 de partes balanceadas, es decir, cada vez que hacemos una partición un lado tiene $3n/4$ elementos y el otro lado tiene $n/4$ elementos. Entonces pensemos en un árbol que en la mitad de las veces tenemos una division de 3 a 1 y en la otra mitad el peor caso de la división. Estos dos casos se van alternando. El árbol tiene $n$ elementos en el subarreglo, entonces nos quedaría así.\n",
        "\n",
        "![image.png](data:image/png;base64,iVBORw0KGgoAAAANSUhEUgAAAbMAAAHACAYAAAAoW4boAAAAAXNSR0IArs4c6QAAAARnQU1BAACxjwv8YQUAAAAJcEhZcwAADsMAAA7DAcdvqGQAAC5USURBVHhe7d17jFRF+vDxmnflD4276rCbjWQ1eOEXjLhDHECDiKIiRNyArhcu6y0aEUhQWFFHUCSgCBpQCMoYFZAVxkVFoxgQFRCWIOMIoxhYUGBZF2KiDEbjX5p5+6mpGorD6ev05dQ5309y0jXVPdM93VXnOVXnOdVVrSkKAACP/T9zCwCAtwhmAADvEcwAAN4jmAEAvEcwAwB4j2AGAPAewQwA4D2CGQDAewQzAID3CGYAAO8RzAAA3iOYAQC8RzADAHiPYAYA8B7BDADgPYIZAMB7BDMAgPcIZgAA7xHMAADeI5gBALxHMAMAeI9gBgDwHsEMAOA9ghkAwHsEMwCA9whmnjj33HNVVVWVGjt2rPr+++/V7Nmz2+uqq6vb6wEgiapaU0wZEbV37151zjnn6PLDDz+s3n//ffXpp5/qn11jxoxRzz33nPkJAJKDkZkHdu3aZUpKPf/886GBTDQ0NJgSgFKT/ta7d289OyKbzJQEZ0iYUSkfgpkH/vWvf5mSUi0tLapXr15q48aNSgbVMlKz5D4ApSXBR4LYiBEjjjmw/Prrr/XB5ksvvaR/lhkVqROnnXaaGjx4sHrwwQfb66S/yuMfeeQR/TM6hmDmgaamJlNSerpx9erVql+/fvrnU045Rd+KQYMGmRKAUpGglG52xMWMSnkRzDywZs0aU1JqxowZqnPnzuYnpfbv329KStXW1poSgFKQwOMGpVmzZqnvvvtOz5IsX75cH2zecMMN+j5mVMqLYBZxzc3NptRm+PDhptSmsbHRlJS64IILTAlAKUyZMsWU2hKuHnjggfaDS+mbX331lTr77LP1z8yolBfBLOJ27txpSuGN3j1KPO+880wJQLHJgaU93yXuv/9+UwrHjEp5Ecwi7osvvjCl4xv9pk2bTKlNTU2NKQEoNvfAUkZadgQWhhmV8iOYRZw7VRFs9F9++aUpMVUBlNqBAwdMqS07MRNmVMqPYBZx7lRFsNG7R39MVQDlI8HInRmRxBC5fsxiRqX8CGYRJtepWDKtEWz0hw8fNiWlLrnkElMCUAo9evQwpTaXXnpp+wXTcs2Zez6NGZXyI5hFmMzJSxqvbJIlFSRHg/b+a665xtQCKAXpY5Jen44bmJhRKT+CGQDkSNLr5doymSmxJMDJdWN2XVRmVCqDhYYBAN5jZAYA8B7BDADgPYIZAMB7BDMAgPcIZgAA7xHMAADeI5gBALxHMAMAeI9gBgDwHsEMAOA9ghkAwHsEMwCA9whmAADvEcwAAN4jmAEAvEcwAwB4j2AGAPAewQwA4D2CGQDAewQzAID3CGYAAO8RzAAA3iOYAQC8RzADAHiPYAYA8B7BrIi2b9+unnnmGfNTfEybNk1t3LjR/AQA0UMwK5IjR46o6667Tp166qmmJj66deumRo4cqfbt22dqACBaqlpTTBkFkkB2xx13qK5du6q5c+ea2niZPXu2Wrlypfr4449Vp06dTC0ARAPBrAgkkMmILK6BzBo/frw6dOiQWrFihakBgGhgmrGD5ByZnCubOnWqqYmvefPmqV9//VVNnDjR1ABANBDMOkAC2ZIlS9S6detiea4szKuvvqo2bdqk5syZY2oAoPKYZizQ+vXr9fSinEfq2bOnqU2GPXv2qMsuu0wH85tuusnUAkDlEMwKINOKkrko58iGDRtmapNFRqMDBw7UCSF9+/Y1tQBQGQSzPEnm4oABA9S9996rbr/9dlObTEuXLlWPPvqo2rBhgzrzzDNNLQCUH8EsD0lIwc/XzJkz1XvvvadHaFVVVaYWAMqLYJaHpKTg52vcuHHq8OHDavny5aYGAMqLbMYcJSkFP18LFixQP//8s5o0aZKpAYDyYmSWAwlkzz77rNq2bVtiUvDz9dNPP6n+/fur2267TZ9PBIByIphlYTMXk5iCn69du3bpgLZw4UJ1/fXXm1oAKD2mGTNwU/AJZNl1795dX1QtixJv3brV1AJA6TEyS4MU/MItWrRIPf744zrDsUuXLqYWAEqHYBaCFPyOmz59uvrwww/1SikAUGoEsxASyISMMFC40aNH6yxHubgaAEqJc2YBNgWfEVnH1dfX6+vP6urqTA0AlAbBzGFT8JO0Cn6pSUKIrBAi16IBQKkwzWiQgl86O3bs0Kvsv/zyy2ro0KGmFgCKh5FZyv79+0nBL6EePXroEdqoUaNUU1OTqQWA4kl8MJPMRQlkkoKf1K9zKYfBgwfraVwJaN9++62pBYDiSPQ0Iyn45ffYY4/pb6r+4IMPTA0AdFyig5lNwZdARsJH+dx1113ql19+UYsXLzY1ANAxiQ1mMuW1ZMkSMhcrZNCgQap3795qxowZpgYACpfIc2YyIpAUfMlcJJBVxrJly/T7L4sSA0BHJW5kZlPwZXWPyy+/3NSiEpqbm/Uq+xLYhgwZYmoBIH+JGpm5KfgEssqrqanRgUxW2ZfABgCFSszIzK6CL18eed9995laRIFMNc6fP1+vst+5c2dTCwC5S0QwIwU/+qZMmaIaGxvVmjVrTA0A5C4RwWzChAk6oJGCH23yvXEnnHCCevHFF00NAOQm9sGMFHy/XHXVVapfv3764moAyFWsE0AkBV8CGSn4/pA1HBsaGhidAchLbEdmpOD7SxYjllX2X3/9db2mIwBkE8uRmaTgS8IHKfh+qq2tbV9lX74+BgCyid3IjBT8+JAv9HzhhRfUhg0bmCYGkFGsghkp+PFTV1enPv/8c7Vq1SpTAwDHi1UwIwU/nm655RZ10kknqfr6elMDAMeKTTAjBT/e5NznlVdeqR555BFTAwBHxSIBhFXw40/WcJSDFclOBYAg70dmpOAnx9atW/Uq+++8844aOHCgqQUAz0dmrIKfLH369NEjNEnZ37Vrl6kFAI9HZpLoIYFs6NChpOAnjEwpy5SjrLJ/8sknm1oASeZlMCMFH5MmTVK7d+9Wb7/9tqkBkGReBjNJwZdzZSR8JNuIESNUdXW1vrgaQLJ5d85MUvDXr19PIIM+fyYXVM+cOdPUAEgqr4IZKfhwVVVV6TUcZcmrpUuXmloASeTNNKNNwZdzZMOGDTO1gFKbN2/WKftr167V63ICSB4vRmY2BX/q1KkEMhynb9++7Sn7e/bsMbUAkiTyIzObgt+zZ08yF5HRnDlz9Bd7yir7J554oqkFkASRD2YSyEjBR64mTpyoR/JvvvmmqQGQBJEOZqTgoxA33nijOv3009W8efNMDYC4i+w5M1LwUSg5f9bY2Khmz55tagDEXSSDmQQxScGXxYMJZMhXp06ddECbP3++vgUQf5EMZjK1KOfIJOkDKMRZZ52lAxnZjUAyeLmcFQAALq9WAAEAIAzBDADgPYIZAMB7BDMAgPcIZgAA7xHMAADeI5gBALxHMAMAeI9gBgDwHsEMAOA9ghkAwHsEMwCA9whmAADvEcwAAN4jmAEAvEcwAwB4j2AGAPAewQwA4D2CGQAkwPDhw1VVVZXe9u7da2qjw76+6upq9f3335va3BHMACDm6uvr1WuvvabLN998szr77LN1OYpaWlrUzp07zU+5K3owk4g/duxYHV3tUUDv3r1VQ0ODeQQQH5s2bdLt3bZ1OboEokRGOXV1deYnpZ544glTKj15bgmk5557bnsfaW5uNvce68ILLzQlpTZv3mxKuStqMJMX2atXL/X888/rnwcNGqR//vTTT9WIESN0pwfiQILY4MGD1aWXXtre3oXbIYEoeOmll/RoR4wZM6YsozIJYrNnz1bdunVT99xzj/r666/NPUrV1NSY0rFOOeUUU1Lqhx9+MKU8tBbJd99913raaae1yp9MvWGmts3y5ct1vWxSBnz28MMPt7fn4LZx40bzKKDyZL/sts9UUDH3lI48h40FwS01wDGPOp70nVwel07RRmZr167V0f+cc85Rzz33nKltI1MvckQg3nrrLX0L+KqpqUm384ULF6pVq1aZ2jbnnXeeKQGVJ6Myq1znyg4ePKhjgezzpX/I81q1tbWmVHxFC2Y2SN199936Nujaa6/Vt/YkJFBq9lyWzNcLOW8r52/d81vp5u8zkYO1r776So0ePVr997//NbVKB7jOnTubn4DSsdN47rkoadtS53ryySdNSalbb73VlNpI27e5DdI3gvkO8reDfy8XckCXGhHqfnLNNdeo999/39yj1AUXXGBKJWBGaB1mh5Xppllk6Cn3y7Z9+3ZTC5ROKri0T1nI1Ldtf+4mj+kI9++mjkBNLVA6sv9MN40nm90Hp0ZF7XXy+CD39M/ChQvT/s2OnBpy9/uyZdr3R2aa0Z5gTMcd3v7444+mBJSGHLnak85bt249JknDJY8pZHRmNTY2mhLJHyg9GT0NGDAg6/5WvPvuu6bUdqon6IsvvjAlpbMd0/3Njpwa2rVrlym1SZf8Ib755htTKkzRU/OBKPjkk09Mqe1AK3XUqVJHmDITcdx5ro4cXEmmrtW3b19TAkrj6aefbg86bpuWab1Zs2bp7PF+/frp+93LoexpHpc7/Sd/U85tycGd/D35O9aRI0dMKX87duwwpbbs9kwOHDhgSoUhmCGW3E4k1q1b1350+rvf/U7fWrbzu+fT3E2ukwkj6fkukj9QSjIqc2cY5JyUbdNyrvaBBx5onymQ2QZ3pHXRRReZ0lHugZgEMgl+dgbNPfd7xRVX6Ft5fvf6YXdLN7vx0UcfmVL25I/9+/eb0tHnzAfBDLHkdiLJqnKnN9zpDHsEKp3R7dyuM844w5SO5V7YSfIHSk0yxi1pb2FTh9aWLVtMqa2NB9tm8EAseCG1JDhZPXr00Lc2Yz3Mn/70J1M61po1a0wpe/KHO2XvXnOWq7IFMzmHYXXp0sWUgNKQ82TWyJEjTamNe65ARmMi3VSjTOWEHdWKzz77zJSOBkWgVNzRz9VXX21K4dyLjm0bd3355Zem1Db95+Y0uOebRffu3fVtuguZ5ffDDuSCo7VMMxfynO7B5MUXX2xKuStaMLPzoemWIbHnMGTnUI5rHZBcMh3iHkHaaURLrhOz7IhNHiPnCoLb4cOH04643M5H8gdKTdq1JfvRTNyZia5du5rSUW6gCU7puesiuvtrmcYM6yOrV6/W9wcF11fMlPzhnuOW58z02HSKFszsfOiKFSv0bZDNrMk0NAaKwc2gChsxuVMf559/vinlJ3j0aqdigHKQ63VtcJO2KNeDpdu3nnnmmaZ0lDulF2y77oCkT58+ppQ/dwYk28xFtszLnKQia1GkOnb7NQKzZs0ytW3c6xnkcUApSfuz7U2uA3PJdS72PtnyIde+uL+bbpMlhIBiy7SMmmzSPi23rYZd++v+XnCfLNdL2vuC+/JM3OvEMm3yfwSlRmPt98v1cYUo2shMhqKSJioefPBBffW4LMQqt7LIsJD7mWJEqblTLMHpCnfqI9/zXO6ILhMSQVAKd955Z8bpxVwzAN3kD3ca0XKnz/OZcch1pftgcodkUdrTApLYIquGFKKoCSAyPLRrcckUjHR+OecgP6eiNlOMKAubiSUdNXgi2T2Jne0keiHsuWOg2CToSKCR7Fw3qEmbk3VCJdjlws3mDdsnyz5byHPY5I9iCl6PuXjxYlNKvxxiLqpkeGbKAIAYkFkxO5MgA4lgElRUyHk/GY0JCZ579uwpeGajbKn5AIDycC9Q7ugyUaUkK5pYDz30UIem6AlmABAz7nmpji4TVSoyKrMrmsioLNdp0nQIZgAQM+55Kffi/iiRr5uxZGmujiZOEcwAIGZktQ03SSRqZFRmz+lJQksxkgNJAAEAeI+RGQDAewQzAID3CGYAAO8RzAAA3iOYAQC8RzADAHiPYAYA8B7BDJGwfft29cwzz5ifIKZNm6YXiQWQHcEMFXfkyBF13XXXqVNPPdXUQHTr1k2NHDlS7du3z9QASIcVQFBREsjuuOMO1bVrVzV37lxTC0u+Dn/lypXq448/Vp06dTK1AIIIZqgoCWQyIiOQpTd+/Hh16NAhtWLFClMDIIhpRlSMnCOTc2VTp041NQgzb9489euvv6qJEyeaGgBBBDNUhASyJUuWqHXr1nGuLAevvvqq2rRpk5ozZ46pAeBimhFlt379ej29KOeCevbsaWqRjXyl/GWXXaYPBG666SZTC0AQzFBWMq0omYtyjmzYsGGmFrmSkezAgQN1Qoj7BYxA0hHMUDaSuThgwAB17733qttvv93UIl9Lly5Vjz76qNqwYYM688wzTS2QbAQzlAUp+MU1c+ZM9d577+kRWlVVlakFkotghrIgBb/4xo0bpw4fPqyWL19uaoDkIpsRJUcKfmksWLBA/fzzz2rSpEmmBkguRmYoKQlkzz77rNq2bRsp+CXw008/qf79+6vbbrtNn4sEkopghpKxmYuk4JfWrl27dEBbuHChuv76600tkCxMM6Ik3BR8Allpde/eXV9ULYsSb9261dQCycLIDEVHCn5lLFq0SD3++OM6w7FLly6mFkgGghmKihT8ypo+fbr68MMP9SorQJIQzFBUEsiEjBJQGaNHj9ZZjnJxNZAUnDND0dgUfEZklVVfX6+vP6urqzM1QPwRzFAUNgWfVfCjQRJCZIUQuRYNSAKmGdFhpOBH044dO/Qq+y+//LIaOnSoqQXiiZEZOmT//v2k4EdUjx499Aht1KhRqqmpydQC8UQwQ8Ekc1ECmaTg83Uu0TR48GA9BSwB7dtvvzW1QPwwzYiCkILvl8cee0x/U/UHH3xgaoB4IZihIDYFXwIZCR9+uOuuu9Qvv/yiFi9ebGqA+CCYIW8ybbVkyRIyFz00aNAg1bt3bzVjxgxTA8QD58yQFzmqlxR8yVwkkPln2bJl+rOTRYmBOGFkhpzZFHxZ3ePyyy83tfBNc3OzXmVfAtuQIUNMLeA3RmbIiZuCTyDzW01NjQ5kssq+BDYgDhiZISu7Cr58AeR9991nauE7mWqcP3++XmW/c+fOphbwE8EMGZGCH29TpkxRjY2Nas2aNaYG8BPBDBlNmDBBBzRS8ONLvnPuhBNOUC+++KKpAfxDMENapOAnx1VXXaX69eunL64GfEQCCEJJCr4EMlLwk0HWcGxoaGB0Bm8xMsNxSMFPJlmMWFbZf/311/WajoBPGJnhGJKCLwkfpOAnT21tbfsq+/L1MYBPGJmhHSn4EPKFni+88ILasGEDU8zwBsEMGin4cNXV1anPP/9crVq1ytQA0UYwg0YKPoJuueUWddJJJ6n6+npTA0QXwQyk4CMtOW965ZVXqkceecTUANFEAkjCsQo+MpE1HOVARzJbgShjZJZgpOAjF1u3btWr7L/zzjtq4MCBphaIFkZmCcUq+MhVnz599AhNUvZ37dplaoFoYWSWQJLoIYFs6NChpOAjZzIdLVOOssr+ySefbGqBaCCYJQwp+OiISZMmqd27d6u3337b1ADRQDBLGEnBl3NlJHygUCNGjFDV1dX64mogKjhnliCSgr9+/XoCGTpEzp/JBdUzZ840NUDlEcwSghR8FEtVVZVew1GWvFq6dKmpBSqLacYEsCn4co5s2LBhphbomM2bN+uU/bVr1+o1PYFKYmQWczYFf+rUqQQyFFXfvn3bU/b37NljaoHKYGQWYzYFv2fPnmQuomTmzJmjv9hTVtk/8cQTTS1QXgSzGJNARgo+ymHixIl6FuDNN980NUB5EcxiihR8lNuNN96oTj/9dDVv3jxTA5QP58xiiBR8VIKcP2tsbFSzZ882NUD5EMxiRoKYpODL4sEEMpRTp06ddECbP3++vgXKiWAWMzK1KOfIJOkDKLezzjpLBzKyG1FunDMDAHiPkRkAwHsEMwCA9whmAADvEcwAAN4jmAEAvEcwAwB4j2AGAPAewQwA4D2CGQDAewQzAID3CGYAAO8RzAAA3iOYAQC8RzDz3Pfff6/OPfdcVVVVpbe9e/eaewAgOQhmRn19fXtAaGhoMLXRN2fOHPX111/r8qBBg9TZZ5+ty/lqbm5u///5pmAAviGYpciO/J577tHlc845Rw0cOFCXo05GYU888YT5SakpU6aYUsd89NFHpgQAfiCYpTz44IOmpNSMGTNU586dzU+lJ6PAwYMHt4+KZISYq4cfftiUlBozZozq16+f+elYEqzdqciw56mpqTElpdasWWNKAOLAPR0ht1E0fPhw/fqqq6v1681X4oPZpk2b2nfeMiqTN7QcJIhJoxoxYsQxweP88883pczkdb/22mvmJ6Xuv/9+UzqWNIq//vWv7VORmZx22mmm1PZ7AOJh3Lhx7fuASZMm6duoamlpUTt37jQ/5S7xwWzChAmm1DYqK4fevXvrIBYWYNKNroLc1yojtHTnykaNGhX6PGFBs0+fPqakCmpMQCXZI3vZfDrvXWruga8csI8ePVqXy0FOhUyePFmPtuyoK50LL7zQlJTavHmzKeWhNcE2btzYKm+BbKlRiaktPXm+QYMGtS5fvrx11qxZ7a+hV69e5hGZrVq16pjX/d1335l7jpUKcu2Pc8uyhZHXZO+X9wbJs3DhwvY2IO3TF7n2iVzI78vfkf4QB26/LtdnmjqAbh0zZkz789ot03vqtj3ZX+Ur0cHs5ptvzvjmpY5i9H3yoUjnkMBj66TB2/p8yQdtua9B/l4u7GuQTV5TGGm07t91O3u6oEkwS7bt27e3f/7SxjoSEMotlz6RKxvMZPOd2+/lPSoH9zmDW6bPxh1cFHIgkdhgJh3VfZOlI7sk4Nj7JNBJAHAfb7dcA1A6bieUI5Ns3KOXdI1T/hfbIeV120Bsfy/dayaYxYMcyMhnHGyz8vnKjiYd9/Mv96hMns99/lz6gpVLnxDSD9znkE0OJoPi1A8KfU87QvY1sv+R/aa7L5ItU/sjmBXIHbmEdQD36ML9MIKb3FeoYEDN1nHk8e5rCdvhyGNsgJTH2lFgLo3aDawEMz+5O/Z0W9jRsbsjyRQQik3asNvu7JZr+8ulT1juLIjdwoKZ+7hMO99KstN47v8ufdx9ve5IWzZ5r1xuoJH3Lfg35XMpZJTrzjwFX4N7XxDBrEBugw2bYpQ6e79scpRrO1jwvkK5H14uf8cdXeU7Veg2+nQ7Cnt/pscg2sJ22MEtLFi5o7hMAaGYgiNHd8tVLn1CuI9zt7CdtfvYsPsrTT4f938Ibpa7nwoL2u7fkYMgdx/hbh1pD+5zyN/PxN0fFhLMEpvN+P7775uSUpdccokpHdXU1GRKbRlAq1evbs80POWUU/StSL3p+laydqpNxk5wk+u8wrgZO6mOaErh5O8/+eST5iel5s6da0pHSdaQTfNPNc721yvPL+muVljGZHAZrFyzKhE9qaNrldoxyF5Nb1JO7UjMvUodPnzYlNpIttunn36qy/K4cl2eIs8p/Se1w1OpoGFqs/cFK5c+Id577732a0lTO3Xdn62+ffuakh/kf5FM6Fy4l+4MGzbMlI764osvTEmpurq6Y/YRrrfeesuU8uc+h5stHeabb74xpQLpkJYw2Ybfwr0/eGQiQ3F7nx3VZZreCfv7wh1Fyd/MxH3OsKMW96gm+Lfco6N0R6/BaVXEizuVFzxKzzZLYdueHdFJe3JHVfL70qfy5U45ua8hW1+wsvUJ4U6lyWuW57S/I1tY34zyyMz9HOX/sTMo8n/Je2g/v1z2ce5nKJv8vv1M3PvSvbe5cPdx2d5L930v5DkTGczcHb/toK5gQwhyP2gb6NwPwt0yfSi2k8mW7jyWCL6esHnn4NRnti3YsLJNScBPcpDi7lCkzbmBR3Zy9j7Z3PssuwOVv+MGEHcL60f5cHfSmfqClUufkP/N9lX7f2fr+8Lty9l2wOXkHpTKFvY/W+7BtbwHYdy/FezzYUHIPeB1t0wHv+7jsp1/dNtWIe97IqcZ3em9sKVd3AuGUx+qKR1lp2TEeeedp28feOCB9mkdd5PpyTAyReIO6zOt/OEut5X6wEMvkHanRXPhTpUKd9p1wIABpgTfyDSUO8U9ZMiQ9qnn1E5NrVu37pily9auXWtKbdPp7n1CVoJJ7TR1eevWrer555/X5SB5TLrp9Gzc5xC5rIKTS5+QVS9sX/3HP/6h/7dcpvb3799vStHiTvel+58t+Zytq6++2pSOkqlll7vGq/jqq69MSakePXro21deeUXfBkm7CRN8ju7du5tSuMbGRlM6fv+Ui8SvABLWINx53traWlNqE/yAgp0/V7t27TKlNjYoBsnz2Z1R6ggo7bJV+ZC/4y6mLIHVDdC+LLSM46Xb4chBmZxTCrZXdweZOjo3paM++eQTU2pbZkjaTmqEoA/UUkfa5p42P/74oynlJ7jaTLbztbn0CfnmB3vOKHWUr6655hpd/uyzz/StcFeccAXPH0eF20f79+9vSuGOHDliSkpdcMEFpnTUl19+aUrHf9tG8ODCBiH3b7puvPFGUzqW+xzyOWUKvvKc7v938cUXm1IeUo0ycbJNI7hDbDuNaLnDd3lcrmTKI/WBtv9uui04JWCnSWQrZOgdnI4Jk8uUBPzgtt2wLdie3TYZNg3k9hXZ3GlId8pONstts+6WbvrQfY5c2l+2PuFOhwWnz9z/155vCnKnPNM9phLsa5It25Sd+9iw/yHTlJ77ucr7VSj3ObLtK93PrNDnTPzILIy78G9wxOROpQRHbZnI0We6bCGXu2K/rC9nj1ZSH7C68847dTkfW7ZsMaX00ypPPfWUKSn197//3ZTgI5nWTvVrvaUOoPQoStqONXbsWFM6Psv1oosuMqWj3K8Dkqktd2TnZp/ZtiV/0z3Cdp1xxhmmdCz3OWTd0kyy9Qk5wv/b3/6my/KaFixYoMsiOLUfNhsSHJX89re/NaVokRG4vFYh/5d8rum+h7BLly6mdJQ7pWenES13KjZbBmIm7nNk21e+++67ptS2xmYhCGYB7hRD2DkEN605LKW/o6644gp9Kw3V/X6y5557rqCvpjlw4IAphU8HyJSN7byyc2CKMT6kvciOwd0huTtzd1pQ2npY+5LzZNbIkSNNqY07HW+DULqpRmlbYcFSuM+Rado+lz4h06L2f5Sg9/vf/779/GHw3I7cJ1+/5HKnVeU1F3oaoRTcg1GZQrX/m/xf6c5lirDpPfeAI3guy52KtfujXEgwte+1bO5zyDk5Wy/ndYPchaGvvfZaU8qTHp8ljDutETZNEQXua5Rpj1LJNN2AeJD2Yz9j2Sy3jYVNA6UOckJ/z3KnNHPJQAwTfI5M03q59An3MblswWnIKGf1ulNxYZv73rn1QdmmEd32km0605Vtittuwc/YzdLsyL4ukSMzd1gdxcwlOQJ1LwadN2+eKRWXjELtEV3YlA38IJ9jdXW1PjJ2ZxZkyk9GHu60WViShwg7eneTlMKmqN3p+Fy/hy8o10SoUvWJW2+91ZTaZLvQuJIkiSUVCI75DKXfys8ynZzrQgfu9HDYlJ6dfZK/nS0DMV/yN4Of8eLFi01JqbvvvtuUCmCCWqK4RybZTkxWgnt0WMrXx6gsHtwEnkybHIXLSMhyRzFhn797v7QVVy6JRWEKTYQqRp9wnzc4OhDB/0leq6/c/yPK3JG5fD4dec8TOTJzj2Dc+fqocEdLqR2KLhebnCuzz5Ma2uvr5BBf8hnLtUeZ0qOD3MSM4LkjN50+bNSWTiGJUDLadK+Dcs+b5SqY7BI2AqyvrzeltmSXQs5RR4X7mbij9ah5+umnTUmphx56qEPveWITQFJHd6YUPTLMTx1o6NtSnYBetmyZvpWA+cYbb+gy/CTfHGynnyRoWfLZ2ikoSWzIty3ZC2fl7wSv+/nhhx9MKfyi3I5yEw9SozJTagsyhawb+r///c+U2vp+cKcp05huEkIw2cU37v938OBBU4qWop/maBugAUiabNOMUeCeEpDNnSYtJjcJIYqnHvLlfraFJueUmrzP9jXK+99RpOYDCRX1RCgxY8YMU2oboeUzTZoPd+qykGnMqIn6twHIqMwmEMlouxjf1FAlEc2UASSInDe99NJLdVmm3tKtI1opcj2SrC0pZBpqz549JTmPJdOL9mtVovg+IDcEMyDB5CJWIcEi+D1nlSZH6zZVXs77FePoPUjOlXXr1q09OUQuYyjV6A+lxTQjkGAyEokqGTHJsbZspQhkQr41wAYyCZgEMn8xMgMAeI+RGQDAewQzAID3CGYAOmT79u3qmWeeMT8BlUEwKzM6PuJEvn34uuuuU6eeeqqpASqDYFZGle7406ZN08seAcUg7fmOO+7Qq8vffvvtprb8aNcQBLMyiULHl+tpZM25ffv2mRqgcBMmTFBdu3ZVc+fONTWVQbuGIDW/TCSQyYis0h1fvvNq5cqV6uOPP1adOnUytUB+ZKp8yZIleiX+KEwx0q5BMCuDqHX88ePHq0OHDqkVK1aYGiB3UWvPFu062ZhmLLEodnz5lt5ff/1VTZw40dQAuVm/fr169tln1aJFiyIVyATtOtkIZiUU5Y7/6quv6oVm58yZY2qAzCQTV6bLZaq8Z8+epjZaaNcJJtOMKL5t27a1du3atXXlypWmJnp2797devrpp7e+9tprpgYI19LS0poKYK2pAzNTE12062TinFkJSObigAED1L333lvRlOVcyPTnwIED9YnzqH8HEirDZuJGIXMxV7Tr5GGaschsx7/88ssjH8iEBF2ZBh01apQ6cOCAqQWOikoKfj5o18nDyKzIopKCn6+ZM2fqL0OUI1n7HVdAVDMXc0W7Tg6CWRH53vHHjRunv6BRvtcJkPYsCUzbtm3zsj1btOtkIJgVSVw6/tChQ9X//d//qaeeesrUIIkkc1GWXpMLkaOauZgP2nX8cc6sCKTjSyCTju9zIBOS2vzhhx/q/wfJZANZlFPw80W7TgAZmaFwPqTg52vnzp2tf/jDH1rfeOMNU4Ok8CkFP1+063hjmrEDfErBz9fatWvVX/7yF33ivE+fPqYWceZjCn6+aNfxRTArUBI6vqQ2P/7447rjd+nSxdQirqQ9C/nc44x2HU8EswIlpeNPnz5dn2uQpbkQX75n4uaLdh0/BLMCJK3jjx49Wv38889q6dKlpgZxEpdM3HzRruOFYJanpHb8IUOGqD//+c/6IlTER9xS8PNFu44PUvPzEKcU/HxJarOspLBgwQJTA9/t378/din4+aJdxwcjsxxJx5fMRen4w4YNM7XJsmPHDnXZZZepl19+WV+ECn/ZTNzbbrtN3XfffaY2mWjX8UAwywEd/6jVq1erG264QW3YsEHV1taaWvgkCZm4+aJd+49glgUd/3gvvviievrpp3XH/+Mf/2hq4QubiSvtOWnT5ZnQrv1GMMuCjh/uscce09/o+8EHH5ga+CBpmbj5ol37i2CWAR0/s7vuukv98ssvavHixaYGUSaf07Rp03R7lpkGhKNd+4lsxjSkISc1czFXMi1z6NAhNWXKFFODqJJMXAlkcpE/gSwz2rWfCGYh6Pi5W7ZsmQ74CxcuNDWIGjcFX74BHdnRrv3DNGMAKfj5a25uVv3799c7ALkIFdFBJm7haNd+IZg56PiFW7VqlRo5cqRevLWmpsbUopLIxO042rU/CGYGHb/jZEpm/vz5uuN37tzZ1KJSJkyYoNs1mbgdQ7v2A8HMoOMXh5w0b2xsVGvWrDE1qAQycYuLdh19BLMUOn5xyReVnnDCCTorDOXnZuKSwFQ8tOtoS3w2o3R8CWSk4BePvKeSSCMXoKK8bCauzDAQyIqLdh1tiQ5mdPzSkdXIGxoaOIotI9nRynlfac+k4JcG7Tq6EjvNaK+9mTp1Kin4JdLU1KRXI3/99dfV4MGDTS1KgUzc8qFdR1MiR2bS8SWQSccnkJWOrD4uR7KjRo3SX7OB0rCZuDIaI5CVHu06mhI3MrMdnxT88pEvPnzhhRf0auSclyw+MnErg3YdLYkLZnT8yqirq1Off/65vggVxUMmbmXRrqMjUcGMjl9Zt9xyizrppJNUfX29qUFHSHYdq+BXHu06GhJzzsy99oZAVhlLly5V//73v9X06dNNDQrFYtjRQbuOhkQEMzp+dMiirTI6ls8ChbGZuKTgRwftuvJiP80oHZ9V8KNl69atejXyd955Rw0cONDUIhc2E3fo0KFkLkYM7bqyYh3M6PjR9eabb6p77rlHL97avXt3U4tMyMSNPtp15cQ2mNHxo0/OYcrUjHT8k08+2dQiHcnElSlzzvtGG+26MmIbzOj4fpg0aZLavXu3evvtt00NwpCJ6xfadfnFMpjR8f0yYsQIVV1drS9CxfFIwfcT7bq8YpfNSAq+fyQTTC48nTlzpqmBxWLY/qJdl5mMzOJi27ZtrakO35oKZKYGvvjPf/6jP7tXXnnF1GDfvn36PVm0aJGpgW9o1+UTm2lGm4Ivq+DLl+jBP5s3b9apzWvXrtWfZZLZTNyePXuSwOQ52nV5xCKY0fHj45///Ke+jEIWb+3WrZupTR5pzzKtSHuOB9p16cUimNHx42XOnDn6CxCl45944ommNjnIxI2npLfrUvM+mNHx42nixIl66lguQk0SMnHjLantuhy8zmaUjr9+/XoCWQzJUexvfvMbNX78eFMTf9KWJRNX1vejPcdTEtt1uXgbzOj48SepzY2NjWr27NmmJt5khkGmyuXcL+Irae26XLydZpRRmZwnY/HgeNu3b5/OBJs1a5YaOXKkqQX8Rrsuvtik5iO+Nm7cqD766CN92QUQF7Tr4iKYAQC8l5hvmgYAxBfBDADgPYIZAMB7BDMAgPcIZgAA7xHMAADeI5gBALxHMAMAeI9gBgDwHsEMAOA9ghkAwHsEMwCA9whmAADvEcwAAN4jmAEAvEcwAwB4j2AGAPAewQwA4D2CGQDAewQzAID3CGYAAO8RzAAA3iOYAQC8RzADAHiPYAYA8B7BDADgPYIZAMB7BDMAgPcIZgAA7xHMAADeI5gBALxHMPPA5MmTVVVVlRo7dqypAQC4CGYeaGpq0rcNDQ36FkiKvXv3qurqar01NzebWuB4BDMP1NbW6tvhw4frWyApDh48qFpaWvS2ZcsWUwscr6o1xZQBIFJkZNarVy9dXrdunaqpqdFlIIhgBgDwHtOMAADvEcwAAN4jmAEAvEcwAwB4j2AGAPAewQwA4D2CGQDAewQzAID3CGYAAO8RzAAA3iOYAQC8RzADAHiPYAYA8B7BDADgPYIZAMB7BDMAgPcIZgAA7xHMAADeI5gBALxHMAMAeI9gBgDwHsEMAOA9ghkAwHsEMwCA9whmAADvEcwAAN4jmHlg8uTJqqqqSo0dO9bUAABcBDMPNDU16duGhgZ9CyTF3r17VXV1td6am5tNLXA8gpkHamtr9e3w4cP1LZAUBw8eVC0tLXrbsmWLqQWOV9WaYsoAECkyMuvVq5cur1u3TtXU1OgyEEQwAwB4j2lGAID3CGYAAO8RzAAA3iOYAQC8RzADAHiPYAYA8B7BDADgPYIZAMB7BDMAgPcIZgAA7xHMAADeI5gBALxHMAMAeI9gBgDwHsEMAOA9ghkAwHsEMwCA9whmAADvEcwAAN4jmAEAvEcwAwB4j2AGAPAewQwA4D2CGQDAewQzAID3CGYAAO8RzDwwefJkVVVVpcaOHWtqAAAugpkHmpqa9G1DQ4O+BZJi7969qrq6Wm/Nzc2mFjgewcwDtbW1+nb48OH6FkiKgwcPqpaWFr1t2bLF1ALHq2pNMWUAiBQZmfXq1UuX161bp2pqanQZCCKYAQC8xzQjAMB7BDMAgPcIZgAA7xHMAADeI5gBALxHMAMAeI9gBgDwHsEMAOA9ghkAwHsEMwCA9whmAADvEcwAAN4jmAEAvEcwAwB4j2AGAPAewQwA4D2CGQDAc0r9f9P91kv38IbiAAAAAElFTkSuQmCC)"
      ],
      "metadata": {
        "id": "7L1Aqo7ZZx6Q"
      }
    },
    {
      "cell_type": "markdown",
      "source": [
        "Con esto en mente, si la mitad de las veces tenemos el peor caso de la división y la otra mitad una división de 3 a 1, el tiempo de ejecución correspondería más o menos al doble del tiempo de ejecución de siempre obtener una división de 3 a 1."
      ],
      "metadata": {
        "id": "3bYnvu1yh1Ku"
      }
    },
    {
      "cell_type": "markdown",
      "source": [
        "#5. Correctitud\n",
        "\n",
        "\n",
        "\n",
        "\n"
      ],
      "metadata": {
        "id": "qsO1WL45OfFC"
      }
    },
    {
      "cell_type": "markdown",
      "source": [
        "##5.1 Función Partition\n",
        "\n",
        "\n",
        "**Teorema**\n",
        "\n",
        "La función Partition recibre un arreglo  de la forma $A[p..r]$, lo reorganiza y retorna un índice $q$ de manera que los elementos del arreglo $A[p..q-1]$ son menores o iguales a $A[q]$ y los elementos del arreglo $A[q+1..r]$ son mayores a $A[q]$.\n",
        "\n",
        "Para probar este teorema utilizaremos la propiedad invariante de bucle.\n",
        "\n",
        "**Inicialización:** Si tomamos una variable $k$, se cumple que para cualquier índice:\n",
        "\n",
        "$p \\leq k \\leq i$   entonces   $A[k] \\leq A[r]$\n",
        "\n",
        "\n",
        "$i < k < j$   entonces   $A[k] > A[r]$\n",
        "\n",
        "Antes del primer bucle se estrablece que $i = p - 1$ y $j = p$, por lo que no hay valores entre $p$ e $i$ ni valores entre $i + 1$ y $j - 1$ entonces las dos condiciones son trivialmente verdaderas.\n",
        "\n",
        "**Mantención:** Si $A[j] > x$, entonces $j$ se incrementa. Se mantiene la segunda condición. Si $A[j] \\leq x$ se incrementa $i$, se intercambia $A[i]$ con $A[j]$ y luego se incrementa $j$. Por el intercambio ahora tenemos que $A[i] \\leq x$, por lo que la segunda condición se satisface.\n",
        "\n",
        "\n"
      ],
      "metadata": {
        "id": "Wq-Cy4-SOrWZ"
      }
    },
    {
      "cell_type": "markdown",
      "source": [
        "##5.2.- Función QuickSort\n",
        "\n",
        "**Inducción matemática**\n",
        "\n",
        "Para probar la correctitud, utilizaremos el metodo de inducción matemática, básicamente consisten en que si queremos probar alguna declaración $P(n)$ debemos probar un par de condiciones.\n",
        "\n",
        "1. Probar un caso base para $P(n)$ como $P(1)$\n",
        "2. Probar que si $P(m)$ es verdad para m < n, entonces P(n) también lo es.\n",
        "\n",
        "Probaremos un caso base para el **quickSort**, como sabemos, el algoritmo toma **n** elementos de entrada y los retorna de manera ordenada de menor a mayor. Entonces, podemos tomar $P(1)$ cuando **n** = 1. De esta forma cuando el arreglo solo tiene un elemento, ya está ordenado. por lo tanto, $P(1)$ es verdad.\n",
        "\n",
        "Para el otro caso, también sabemos que el algoritmo divide dos veces el arreglo de tamaño **n** en subarreglos. Tenemos que `m = n/2` y `m = n/2` en la **primera división**. Entonces como m es menor a n, comprobamos que el caso inductivo también es verdad.\n",
        "\n",
        "Al cumplir estos dos puntos, entonces **quickSort** es correcto.\n"
      ],
      "metadata": {
        "id": "UJDz9JZsO1gi"
      }
    },
    {
      "cell_type": "markdown",
      "source": [
        "# 6. Experimentos\n",
        "\n"
      ],
      "metadata": {
        "id": "RCToPhjFOn_1"
      }
    },
    {
      "cell_type": "markdown",
      "source": [
        "## 6.1 Comparaciones\n",
        "\n",
        "Observaremos la cantidad de comparaciones que realiza el algoritmo en dos casos teóricos:\n",
        "\n",
        "* Peor caso teórico $O(n^2)$ \n",
        "* Mejor caso teórico $O(n \\log_2 n)$ \n",
        "\n",
        "Estableceremos un tamaño del problema de $n \\in [5,74]$. El arreglo de entrada tendrá números entre 1 y 100. **Ya ordenados de menor a mayor**"
      ],
      "metadata": {
        "id": "ZCcb67eY95cx"
      }
    },
    {
      "cell_type": "code",
      "source": [
        "import matplotlib.pyplot as plt\n",
        "import random\n",
        "import math\n",
        "for n in range(5,25):\n",
        "  a = random.sample(range(1, 100), n)\n",
        "a.sort()"
      ],
      "metadata": {
        "id": "997gbJHs-epR"
      },
      "execution_count": 217,
      "outputs": []
    },
    {
      "cell_type": "code",
      "source": [
        "import matplotlib.pyplot as plt\n",
        "import random\n",
        "import math\n",
        "\n",
        "x = [n for n in range (5,75)]\n",
        "y = []\n",
        "z = []\n",
        "\n",
        "# Peor y mejor caso\n",
        "y1 = [pow(n,2) for n in range (5,75)] \n",
        "y2 = [n * math.log2(n) for n in range (5,75)]\n",
        "\n",
        "\n",
        "for n in range(5,75):\n",
        "  global comp\n",
        "  comp = 0\n",
        "  verbose = False\n",
        "  a = random.sample(range(1, 100), n)\n",
        "  a.sort()\n",
        "  quickSortFinal(a,0,len(a)-1,verbose)\n",
        "  y.append(comp)\n",
        "  comp = 0\n",
        "  quickSortMedio(a,0,len(a)-1)\n",
        "  z.append(comp)\n",
        "\n",
        "plt.plot(x,y)\n",
        "plt.plot(x,y1)\n",
        "plt.plot(x,y2)\n",
        "plt.plot(x,z)\n",
        "plt.legend([\"QuickSort pivote final\", \"Peor caso teórico\", \"Mejor caso teórico\",\"QuickSort pivote medio\"])\n",
        "\n",
        "plt.xlabel('n')\n",
        "plt.ylabel('Número de comparaciones')\n",
        "plt.show()"
      ],
      "metadata": {
        "colab": {
          "base_uri": "https://localhost:8080/",
          "height": 279
        },
        "id": "RDoM9NFA9zKX",
        "outputId": "ee12f271-4913-40c5-c041-24b56d6028d3"
      },
      "execution_count": 838,
      "outputs": [
        {
          "output_type": "display_data",
          "data": {
            "text/plain": [
              "<Figure size 432x288 with 1 Axes>"
            ],
            "image/png": "[encoded data removed]"
          },
          "metadata": {
            "needs_background": "light"
          }
        }
      ]
    },
    {
      "cell_type": "markdown",
      "source": [
        "Como podemos observar el número de comparaciones de **QuickSort** con el pivote medio se asemeja al mejor caso teórico, esto se debe a que como el arreglo ya se encuentra ordenado, para el modelo **QuickSort** con el pivote medio debe realizar un númnero mucho menor de comparaciones, debido al menor número de intercambios que debe realizar."
      ],
      "metadata": {
        "id": "qlxzaULpfbcK"
      }
    },
    {
      "cell_type": "markdown",
      "source": [
        "## 5.2 QuickSort vs MergeSort\n",
        "\n",
        "### 5.2 MergeSort vs InsertionSort\n",
        "\n",
        "Compararemos los algoritmos **MergeSort** e **InsertionSort**.\n",
        "\n",
        "Estableceremos un tamaño del problema de $n \\in [5,249]$. El arreglo de entrada tendrá números entre 1 y 500\n",
        "\n",
        "**MergeSort:**"
      ],
      "metadata": {
        "id": "yvIvdA5jANhP"
      }
    },
    {
      "cell_type": "code",
      "source": [
        "# ALGORITMO MERGESORT\n",
        "\n",
        "# p = inicio(indice) ; r = tamaño(indice) ; q = mitad(indice)\n",
        "\n",
        "def merge(A,p,q,r,verbose):\n",
        "\n",
        "  #global comp\n",
        "  #Sub-arreglos \n",
        "  arregloIzq = A[p:q+1]\n",
        "  arregloDer = A[q+1:r+1]\n",
        "\n",
        "  indiceIzq = 0      #Índice sub-arreglo izquierdo\n",
        "  indiceDer = 0      #Índice sub-arreglo derecho\n",
        "\n",
        "  \n",
        "  if verbose == True:\n",
        "      print(\"\")\n",
        "      print(A[p:q+1],A[q+1:r+1])\n",
        "  #ciclo para recorrer arreglo principal\n",
        "  for k in range(p,r+1):\n",
        "    \n",
        "    #Copiar sobras de sub-arreglos en el arreglo principal\n",
        "    if indiceDer == len(arregloDer):\n",
        "      for k in range(k,r+1):\n",
        "        A[k] = arregloIzq[indiceIzq]\n",
        "        #comp += 1 \n",
        "        indiceIzq += 1\n",
        "      break\n",
        "\n",
        "    if indiceIzq == len(arregloIzq):\n",
        "      for k in range(k,r+1):\n",
        "        A[k] = arregloDer[indiceDer]\n",
        "        #comp += 1 \n",
        "        indiceDer += 1\n",
        "      break\n",
        "\n",
        "    #Comparar sub-arreglos y dejar el menor elemento en el arreglo principal\n",
        "    #comp += 1  #contador comparaciones\n",
        "    if (arregloIzq[indiceIzq] <= arregloDer[indiceDer]):\n",
        "      A[k] = arregloIzq[indiceIzq]\n",
        "      indiceIzq += 1\n",
        "    else:\n",
        "      A[k] = arregloDer[indiceDer]\n",
        "      indiceDer += 1\n",
        "    if verbose == True and arregloIzq[indiceIzq-1] > arregloDer[indiceDer-1]:\n",
        "      print(\"Merge: \",colored(A[p:r+1],\"blue\"),\"   Comparando...\",\"\\n\")\n",
        "\n",
        "  if verbose == True:\n",
        "      print(\"Merge: \",colored(A[p:r+1],\"green\"),\"  ¡Ordenado!\",\"\\n\")\n",
        "    \n",
        "  \n",
        "def mergeSort(A,p,r,comparacion,verbose):\n",
        "  \n",
        "  #global comp,contRe\n",
        "  #contRe += 1\n",
        "\n",
        "  if p == r: return #Cuando el arreglo solo tiene un elemento lo retorna\n",
        "  \n",
        "  q = int((p+r)/2)  #Medio del arreglo\n",
        "\n",
        "  if verbose == True:\n",
        "    print(\"¡MergeSort! \",colored(A[p:q+1],\"red\"),colored(A[q+1:r+1],\"red\"))\n",
        "   \n",
        "  mergeSort(A,p,q,comparacion,verbose)  #Ordenar sub-arreglo izquierdo  \n",
        "\n",
        "  mergeSort(A,q+1,r,comparacion,verbose)#Ordenar sub-arreglo derecho\n",
        "  \n",
        "  merge(A,p,q,r,verbose)    #Combinar los dos sub-arreglos"
      ],
      "metadata": {
        "id": "rXHkuN7GAry5"
      },
      "execution_count": 172,
      "outputs": []
    },
    {
      "cell_type": "code",
      "source": [
        "from matplotlib import cm\n",
        "import matplotlib.pyplot as plt\n",
        "import datetime\n",
        "from timeit import repeat\n",
        "\n",
        "x=[]; y=[]\n",
        "ix=[]; by=[]\n",
        "\n",
        "\n",
        "for n in range(5,250):\n",
        "  comp = 0\n",
        "  verbose = False\n",
        "  p = 0\n",
        "  a = random.sample(range(1, 250), n)\n",
        "  r = len(a)-1\n",
        "  q = int((p+r)/2)\n",
        "\n",
        "  z = repeat(setup=\"from __main__ import quickSortFinal\", stmt=f\"quickSortFinal({a},{p},{r},{verbose})\", repeat=1, number=10)\n",
        "\n",
        "  ix.append(n)\n",
        "  by.append(z)\n",
        "\n",
        "\n",
        "  t = repeat(setup=\"from __main__ import mergeSort\", stmt=f\"mergeSort({a},{p},{q},{r},{verbose})\", repeat=1, number=10)\n",
        "  x.append(n)\n",
        "  y.append(t)\n",
        "\n",
        "plt.plot(ix,by)\n",
        "\n",
        "plt.plot(x,y)\n",
        "\n",
        "\n",
        "plt.legend([\"QuickSort\",\"MergeSort Sort\"])\n",
        "\n",
        "\n",
        "plt.xlabel('tamaño del arreglo')\n",
        "plt.ylabel('Tiempo')\n",
        "plt.show()"
      ],
      "metadata": {
        "colab": {
          "base_uri": "https://localhost:8080/",
          "height": 279
        },
        "id": "neuIAFXoAuBz",
        "outputId": "77c1e55f-714a-4dba-87db-5471578ebc93"
      },
      "execution_count": 822,
      "outputs": [
        {
          "output_type": "display_data",
          "data": {
            "text/plain": [
              "<Figure size 432x288 with 1 Axes>"
            ],
            "image/png": "[encoded data removed]"
          },
          "metadata": {
            "needs_background": "light"
          }
        }
      ]
    },
    {
      "cell_type": "markdown",
      "source": [
        "Como podemos apreciar, ambos algoritmos en lo que respecta a tiempo de ejecución son muy similares, esto se debe a que poseen igual complejidad temporal en el caso promedio $O(n \\log n)$"
      ],
      "metadata": {
        "id": "RZFMyuZICHEU"
      }
    },
    {
      "cell_type": "markdown",
      "source": [
        "## 5.3 Rendimiento con distintos pivotes\n",
        "\n",
        "A continuación veremos el rendimiento que tiene el algoritmo **QuickSort** dependiendo del lugar en donde pongamos nuestro pivote. Ya sea al inicio, el final, o en la mediana de tres elementos aleatorios del arreglo."
      ],
      "metadata": {
        "id": "T416dzsydcHu"
      }
    },
    {
      "cell_type": "code",
      "source": [
        "from matplotlib import cm\n",
        "import matplotlib.pyplot as plt\n",
        "import datetime\n",
        "from timeit import repeat\n",
        "\n",
        "x=[]; y=[]\n",
        "ix=[]; by=[]\n",
        "Ax=[]; By=[]\n",
        "\n",
        "\n",
        "for n in range(5,250):\n",
        "  comp = 0\n",
        "  verbose = False\n",
        "  p = 0\n",
        "  a = random.sample(range(1, 500), n)\n",
        "  a.sort()\n",
        "  r = len(a)-1\n",
        "  q = int((p+r)/2)\n",
        "\n",
        "\n",
        "  z = repeat(setup=\"from __main__ import quickSortFinal\", stmt=f\"quickSortFinal({a},{p},{r},{verbose})\", repeat=1, number=10)\n",
        "\n",
        "  ix.append(n)\n",
        "  by.append(z)\n",
        "\n",
        "\n",
        "  t = repeat(setup=\"from __main__ import quickSortInicio\", stmt=f\"quickSortInicio({a},{p},{r})\", repeat=1, number=10)\n",
        "  x.append(n)\n",
        "  y.append(t)\n",
        "\n",
        "  f = repeat(setup=\"from __main__ import quickSortMedio\", stmt=f\"quickSortMedio({a},{p},{r})\", repeat=1, number=10)\n",
        "\n",
        "  Ax.append(n)\n",
        "  By.append(f)\n",
        "\n",
        "plt.plot(ix,by)\n",
        "\n",
        "plt.plot(x,y)\n",
        "\n",
        "plt.plot(Ax,By)\n",
        "\n",
        "\n",
        "plt.legend([\"QuickSort pivote final\",\"QuickSort pivote inicio\",\"QuickSort pivote mediana\"])\n",
        "\n",
        "\n",
        "plt.xlabel('tamaño del arreglo')\n",
        "plt.ylabel('Tiempo')\n",
        "plt.show()"
      ],
      "metadata": {
        "colab": {
          "base_uri": "https://localhost:8080/",
          "height": 279
        },
        "id": "2Isvtm4xd_kR",
        "outputId": "52494e30-e022-45ac-a872-41e6d935ff0c"
      },
      "execution_count": 828,
      "outputs": [
        {
          "output_type": "display_data",
          "data": {
            "text/plain": [
              "<Figure size 432x288 with 1 Axes>"
            ],
            "image/png": "[encoded data removed]"
          },
          "metadata": {
            "needs_background": "light"
          }
        }
      ]
    },
    {
      "cell_type": "markdown",
      "source": [
        "Como podemos apreciar dependiendo de la implementación de la función **partition** el rendimiento del algoritmo **QuickSort** cambia drasticamente. Si nuestro arreglo de entrada ya se encuentra ordenado el algoritmo tiene un desempeño no muy optimo si se escoje un pivote al inicio o al final del arreglo. Por ese motivo utilizar la llamada \"mediana de tres\" es la forma más eficiente de implementar el algoritmo."
      ],
      "metadata": {
        "id": "bDPk_ZQqlB7p"
      }
    }
  ]
}

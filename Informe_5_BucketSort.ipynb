{
  "nbformat": 4,
  "nbformat_minor": 0,
  "metadata": {
    "colab": {
      "provenance": [],
      "collapsed_sections": []
    },
    "kernelspec": {
      "name": "python3",
      "display_name": "Python 3"
    },
    "language_info": {
      "name": "python"
    }
  },
  "cells": [
    {
      "cell_type": "markdown",
      "source": [
        "# 1. Descripción del problema\n",
        "\n",
        "La mayoría de los problemas de ordenamiento pueden ser resueltos con distintos métodos, dependiendo de la forma en el que está establecido el problema es mas conveniente utilizar un determinado algoritmo que otro. Por ejemplo si ordenamos una determinada secuencia de números decimales existen ciertos algoritmos que podran realizar esta tarea en un tiempo más eficiente.\n"
      ],
      "metadata": {
        "id": "Y8VNYtO8iyUt"
      }
    },
    {
      "cell_type": "markdown",
      "source": [
        "# 2. Descripción del algoritmo\n",
        "\n",
        "**Entrada:** Secuencia de n números $[a_1,a_2,...,a_n]$\n",
        "\n",
        "**Salida:** Permutación ordenada de la secuencia de entrada: $[a_1',a_2',...,a_n']$ de tal manera que $[a_1'\\leq a_2'\\leq...\\leq a_n']$\n",
        "\n",
        "\n",
        "El algoritmo **BucketSort** recibe de entrada una secuencia de números y los retorna de menor a mayor, en el que se divide el rango de los elementos en **n** sub intervalos, o también llamados **buckets**.\n",
        "\n",
        "Al tener los **buckets** ya establecidos se recorre el arreglo de entrada y se van agregando los elementos en sus buckets correspondientes. Con la característica de que cada bucket contiene elementos que son menores a otro bucket. Una vez se haya recorrido todo el arreglo se ordena cada bucket utilizando un método de ordenamiento, en este caso **InsertionSort**. Obteniendo el arreglo de entrada ordenado de menor a mayor.\n",
        "\n",
        "\n",
        "**Ejemplo:**\n",
        "Dado un arreglo $A = [0.67 , 0.26 , 0.42 , 0.23 , 0.64]$\n",
        "\n",
        "Como los números van del 0 al 9 crearemos 10 **buckets**.\n",
        "\n",
        "Recorremos el arreglo obteniendo el primer número de cada decena. Por ejemplo el número 0.67 tomamos el número 6. Del número 0.26 tomamos el 2 y así con los demás. \n",
        "\n",
        "![ejemplo.png](data:image/png;base64,iVBORw0KGgoAAAANSUhEUgAAAfoAAAF4CAYAAAC8bTuaAAAAAXNSR0IArs4c6QAAAARnQU1BAACxjwv8YQUAAAAJcEhZcwAAEnQAABJ0Ad5mH3gAAB9qSURBVHhe7d1fTxzX/cfxk98DaLxwZ0UWZonUO0cKEMnFUbBUoKQ3UYlYu75w5ao2qKprKQXZceVUbqKCrNaqVDCVqsZRZaBxVC6KBUSyI0MtBVBsLnpVlliW5Ssva9cPwD++hzl0vOyud2d2/p19v6TRmZ0ddtfjL/PZmTlzeOX5FgUAAKz0f04LAAAsRNADAGAxgh4AAIsR9AAAWCzSznivvPKKMxdP9FMEACRd5EEf1zCN82cDAKBSnLoHAMBiBD0AABYj6AEAsBhBDwCAxQh6AAAsRtADAGAxgh4AAIsR9AAAWMx30G9sbKjBwUHV0NCgB5mRqa2tTU1NTTlrAACAqPgaGW9tbU11dnaqfD6vUqmUam9vV7lcTq2ururnBwYG1NjYmJ4vhpHxAAAIlucjegl0E/IS6Jubm2pubk6trKyoyclJvc74+DhH9gAARMhz0H/55Zc65NPp9K6j9kwmo8NfzMzM6BYAAITPc9CbAP/Zz36m20I//OEPdTs9Pa1bAAAQPs9Bv7CwoNuDBw/qttB3v/tdZ277Wj4AAAif56CX0/blNDc3O3NKPXv2zJkDAABh8hz0AAAg/gh6AAAsRtADAGCxwIJe7rM39u7d68wBAIAweQ767u5u3d65c0e3hb7++mvdyoh57o55AAAgPJ6D/s0339Tt559/rttC//znP3Urg+cAAIBoeB7rXv6YjYyKJ0ZGRtTQ0JCeFzLs7ZEjR/R8NpsteUTPWPcAAATL1x+1cQe6hH5LS4taX1/X4S5kzPtyR/QEPQAAwfIV9OLGjRvqs88+2xnqVq7Jd3V1qZ///Oeqo6NDLyuFoAcAIFi+g94Pgh4AgGBxHz0AABYj6AEAsBhBDwCAxQh6AAAsRtADAGAxgh4AAIsR9AAAWIygBwDAYpEPmBNnDJgDAEg6RsYrgZHxAAA24NQ9AAAWI+gBALAYQQ8AgMUIegAALEbQAwBgMYIeAACLEfQAAFiMoAcAwGI1C/qlpSXV0tKiB5qReQAAED3fQZ/L5dSHH36oDh06pLLZrLMUAADEga+gX1tbUz09PeqTTz5R6XRaTwAAID58Bf3w8LBaXV1VIyMj6uuvv9an7gEAQHz4Cvr33ntP3bt3Tw0NDanGxkZnKQAAiAtfQX/y5El14MAB5xEAAIgb353xAABAfBH0AABYjKAHAMBiBD0AABYj6AEAsBhBDwCAxQh6AAAsRtADAGCxV55vcearNjo6qm7evOk8Ump5eVnl83nV2tq6M1Le4cOH9ch5xchfuvPx9oGK82cDAKBSvoI+k8mo6elp51Fx/f39ampqynn0IoIeAIBg+Qp6vwh6AACCxTV6AAAsRtADAGAxTt2XwKn7cMn2RrSod8BOBH0JBH24kr69+fwA4oqgL4EdX7gIymhR7+GQ7Yxo1WOdE/QlsOMLF0EZLeo9HNRJtOq1zumMBwCAxQh6AAAsRtADAGCxyK/Rx1k9XsuJCtf+olWv1y7DRp1Eq17rnM54JbDjCxc7kGhR7+GgTqJVr3XOqXsAACxG0AMAYDGCHgAAixH0AABYjKAHAMBiBD0AABYj6AEAsBhBDwCAxQh6AAAs5ivoc7mcmpiYUD09PXrEIZlaWlrU4OCg2tjYcNYCAABR8TwErgR5a2uryufzKpVKqfb2dh38q6ur+nlZJvPNzc36cTFxHo6wXodKjErStzefH5WgTqJVr3Xu+Yj+2bNnqqGhQc3OzqrNzU01NzenVlZW1OLion5evgCcO3dOzwO1Jl805ZfWTHIWqZxy61b7WgCQKFvfbmpuYGBAvjLpqZyA3r4m4vzZbFTt9k6n08+7u7v1/OTkpP55aYtxv7b8jDze+kKqH0srj0dGRvRjr6r9/HGT9M+fFNVuZ1OfZipXp9lstuy67ufM70615GeTLOmf36tAOuM1NTU5c4BST548UWfOnHEe+be0tKS2dmrq+PHj+rFcNhK3b9/WbaGtOnfmlDp8+LBuHz58qNtr167pdmhoSLeAF7WucePQoUNq68BJ1/BWcKvh4WFd/4XkrFRXV5deT6atL8J6XdNXSvpOye+MPCevNz8/r6ampvRzsF8gQf/06VPdSrEB4vLly/q0eC12hnfu3HHmtpl+IGanVs79+/d1+9prr+l2YWFBt+5T9+wA4UUta1yYOjx69KhuDx48qNvC+hfyO7C+vu48Ujr0xaNHj3Qrz5nfk7ffflu3Dx480C3sF0jQT09P67a/v1+3gFHrnWE15IvA+Pi46u7uVh0dHc7SbeZISJ47cuSIsxSoXq1qvPAM1d69e3VrvqyWY770mp9x+/TTT3Xb19enW9iv5kEvt9vJKSLpdX/ixAlnKfCiKALfnGEaGxvTreE+81TN2QGgnKi+1MqpfTk1L6foTT3LMvksMslzk5OTO8/Bfp5vrytmbW1NdXZ26h73V65cUSdPnnSeKU6Kzu/bz8zMqKtXrzqPKiPX017mq6++Uu+8847zqHqVvEcthPE+tXiPcq+xZ88e/XyltSCnNOWoW3ZWmUxGh7KEtezYCkPckLEeZAcnd4W4j+bd1y6F9LiXo35ZVs2OsBa1XEpQNe7mpd7DqD0RxvvU4j3KvYbU+N27d9X+/fsrrhNTi6ZmK6lzs44o9T6jo6P6+n251yklyDoPQ9I/v1c1C3q5h152pnLvfKUFVIuNfu/evYpOZbnJL93LyBeWW7duOY+qV8l71EIY7+P3PWQHKDu4QvK6p0+f1p3qqtkBCqkdOc0ut3WaHZfZIZodpPkiULjDdCv8WffrViPIHUhQNe7mpd6p8f+ppMalk3I1dVJYm3JULp3zpFNeqc6j5otruS+q5suATO7r+pUIss7DkPTP79nWP9q3x48fP29tbZWtV9VtGzV6+0DE+bMlTT6f19vTTFs7v+cXLlx4/u233zprVL+9t3Z+L7ym+9a6rS+aO8u2dngvrGemrZ2cs/b/brkrXF4N+dkkS/rnj1olNS6q2c6mdqWehalrWS5M3crvgvuxed7NXdfye+F+3WrIzyVZ0j+/V77/1e6Ql1YeVyrOG71eCyIIZidYaucnkr69+fz1rZIaF9VuZxPKZjKhLtxBX/jF10zmwKvweS8hL+Rnkyzpn98rX6fu3afrZThcOd3Z2NjoPPtycT6NUreneAIgpzWlY5I5fVkMpwSjRb37U0mNC+okWvVa556D3m/IizhvdHZ84WIHEi3qPRzUSbTqtc49B73cRnfq1Ck9L0FfKuRlJLJSHUfivNHZ8YWLHUi0qPdwUCfRqtc6r0nQlyOD5pQaaSzOG50dX7jYgUSLeg8HdRKteq3zmt1e50WcNzo7vnCxA4kW9R4O6iRa9VrngQyBCwAA4oGgBwDAYgQ9AAAWI+gBALAYQQ8AgMUIegAALBb57XVxVo+3YUSF23aiVa+3HYWNOolWvdY599GXwI4vXOxAokW9h4M6iVa91jmn7gEAsBhBDwCAxQh6AAAsRtADAGAxgh4AAIvR674EeiGHS7Y3okW9B49e69Gq1/06QV9CvRYEgOAQlNEi6CNA0AOoJ7JfQbQI+pAR9AAABMtXZ7xcLqdGR0dVW1ubDkaZGhoa1ODgoNrY2HDWAgAAUfF8RC9B3traqvL5vEqlUqq9vV0H/+rqqn5elsl8c3OzflwMR/QAAATL8xH9o0ePVDqdVrOzs2pzc1PNzc2plZUVde/ePR3y8gXg0qVLztoAACAKnoO+o6NDB3tvb6+zZNuBAwdUJpPR85y+BwAgWoEMmNPU1OTMAQCAKAUS9Ddv3tRtuevzAAAgeDUNeumMJz3u5+fn9XX6Dz74wHkGAABEwfd99HI9/smTJ3peAl709/ers2fP6uv15dDrHgCAYPkOerlvXnrYu8nRvHwBuHjxompsbHSW7kbQAwAQLN+n7uXWOglEmbLZrJqcnNTLx8fHVU9Pjz6dDwAAohHIELhra2vqjTfe0PNXrlxRJ0+e1POFOKIHACBYgfS6l2vzMmqeePr0qW4BAED4Agl6OV0vp/EBAEC0PAe9dLYr9sdrJOR//etf73TQ6+vr0y0AAAif52v0EvLS4U7ImPctLS163txiJ6RjnhkOtxiu0QMAECxfnfGmpqbUzMyMWlhY2DmCl9Dv6urSg+W8bGQ8gh4AgGAF0uu+UgQ9AADBCqQzHgAAiAeO6EvgiD58ss0RDWodsBdBXwJBH76kbvOk1wq1DtiNU/cAAFiMoAcAwGIEPQAAFiPoAQCwGEEPAIDFIu91H2f0RA4Xve6jQa97wG7cXlcCO7/wEfTRoNYBu3HqHgAAixH0AABYjKAHAMBiBD0AABYj6AEAsBhBDwCAxQh6AAAsRtADAGCxmgb90tKSamho0ANwSAsAAKJV05HxWlpaVDabdR69fAjZOI/IxWhh4UvqNk96rVDrgN1qdkQ/OjqqQ35kZMRZAgRLak5CykxyRullzLqDg4POEqU2NjZeeB15XQCwRU2Cfm1tTQ0PD6t0Oq2GhoacpcD/fPrpp85cbUioS81NTk7qo9Hu7m516NAh59niJNxlPTcJ+a6uLv0aMkkNy+vKcgCwQU2CXnaMotY7c9jhyZMn6ic/+YlKpVI1q5Fr167pNpPJ6Pbw4cO6LXVUL8E9Pj6ujh8/7izZ1tzcrNbX151HSoe+ePTokW4BIOl8B/3ExISan59XAwMDqqOjw1kK7OYO/MuXLztLvVlYWHDmtu3bt0+3Dx8+1G2hS5cu6aP59vZ2Z0lx5kh+7969ugWApPMV9LlcTp09e1bvuC9evOgsBcqTwD9z5oy+Hi5t0EodzReSswHmS6sc6QOADXz1upfTptPT02p2dlb19vY6S7c7PImXvbSs5+Pt1f379/VUigRKJYqtJ0eef/3rX51Hlb+WqGTdp0+fOnPl+fk3FKrla4lq1iu37p49e9Tdu3fV/v37K64Hc4eHWX9qakodOXJEX7M3p/MNuTYvZwDkFL2EvlyHlzAfGxtz1tj+MiDLRbU16beOo5b0zw+gPM9Bf+PGDfXuu+/q06Fzc3PO0m1hBb1c77169arzaDcJkEoUW09e230EWOlriVdffdWZK83PZyumkvWieE9DQryQ/Pzp06f1dm5qaqqqHnp6evTRt1lfespLX5HFxcVdl5AKb/s03LVr1pGp2qN5gh5AnHkKejll/9Zbb6nNzU21urq6a8cYVtAHiZ1f7cjRvFzeMQoD3qhmmxcewUtQC9OxrlQNFjuiN18avIS8SHqtUOuA3TwFvTmal513sc5NstMU5lam8+fPF+2oF+cdDDu/2jFBLwEv4S4h7w54o9ptLqfk5dq74f5ZeS1R+HqFQS/X5YvdllfsTFUpSa8Vah2wm6egN0dTlSp23VTEeQfDzq92JOh/85vflAx4I6nbnKAHEGe+OuOVIjsO8bKXjvMOhp1f+JK6zZNeK9Q6YLeaDYELAADih6AHAMBigQS9u4c1AACITiDX6CvFNXq4cY0+GtQ6YDdO3QMAYDGCHgAAixH0AABYjKAHAMBiBD0AABYj6AEAsBhBDwCAxQh6AAAsFvmAOXHGICLhYsCcaDBgDmA3RsYrgZ1f+Aj6aFDrgN04dQ8AgMUIegAALEbQAwBgMYIeAACL0RmvBDoohU+2OaJBrQP2IuhLIOgBADbg1D0AABYj6AEAsJivoO/p6dGnuEtNg4ODzpoAACAKvq7RS5iL7u5u3RZ677331MmTJ51Hu8nPc40eAIDg1CTovb4EQQ8AQLC4Rg8AgMUIegAALEbQAwBgsZp3xtuzZ4/q7OxUfX19qrGx0VlaHNfoAQAIlq+gb2trU6urq86jF6VSKfW3v/1N9fb2Okt2I+gBAAiWr1P309PTKpvN6kCU6fHjx2p2dla1traqfD6vjh07pjY2Npy1AQBA2AIZ6z6Xy6nXX39dh/3IyIgaGhpynnkRR/QAAAQrkM54cm2+vb1dz3/zzTe6BQAA4Qu8131DQ4MzBwAAwhZI0Mup++XlZT3/9ttv6xYAAITPc9BnMhk1OjqqQ91NOt/JH7uR6/PpdFp9//vfd54BAABh89wZT4Jeet0L6WUv1+Ul9M3tdhLyX3zxhTpw4IB+XAyd8QAACJbnoJdQv379uvrHP/6h5ufnnaXbg+fIX61jwBwAAKIXyO11lSLoAQAIVuC97gEAQHQIegAALEbQAwBgMYIeAACLEfQAAFiMXvcl0Os+fLLNEQ1qPRzUePTqsdYJ+hII+vAldZsnvVao9fBQK9Gq11rn1D0AABaL/Ig+zurxm1+Ukvptm6McVIpaiVa91jqn7ktg5xe+pG5zdn6oFLUSrXqtdU7dAwBgMYIeAACLEfQAAFiMoAcAwGIEPQAAFiPoAQCwGEEPAIDFCHoAACxWk6Df2NhQH374oWpra9MDEsjU0NCgBgcHVS6Xc9YCAABh8z0y3o0bN9SxY8dUPp9XqVRKtbe36+XLy8t62eLiouro6NDLCsV5lKJ6HUEpSknd5kmvFWo9PNRKtOq11n0F/dramurs7NSBPjIyooaGhpxntsnzr732mmpsbHSWvCjOG52dX/iSus3Z+aFS1Eq06rXWfQV9JpNR09PTRUO+EnHe6Oz8wpfUbc7OD5WiVqJVr7Xu+Rq9XJeXkJfT9SdOnHCWArs9efJEnTlzxnkEAAiT56CXa/BCrsmXOjUPGJcvX9bfpgl8AAiX56B/8OCBbg8fPqympqZUT0+P3pHLJD3u5bS+XKMH3GoZ+KOjozs1J9PS0pLzTHHuGpVJSO26l5lJ7hgBACs89+jcuXNyoWNnSqVSz7u7u/XkXr64uOj8xG7yfFzF+bMlTT6ff6Em3NMvf/lLZ63qtrnUlaw/OTmpH5u6KyWdTuvpZeT13K9biWo+dxwl/fPHgdS4u5ZLqXZbmzo308jIiPNMcfK8e/3C/a/7+Ww26yytnPxckiX983vl+V9tdqytra3PZ2dnnaXbHj9+rJeb50upxUb/6KOP9OswJXfas2fP82+//VbPV2pgYOCF9c0OrNgXy8IvBeW87AtDMdWuHzdJ//xx4P4yWy7wvdSW1LooV+PC/E6UCnBZLs+bGifo64fnU/fNzc26ff/991Vvb6+eN+Sa/R/+8Ac9v7q6qtugXLhwQf7naj6JYsuZqp/k9stitgJe///dvXtXNTU1OUsrs7Cw4Mxt27dvn24fPnyoW7c7d+7o9siRIzun5uU0fiE59T8/P6+2dpjOEqB6tbo8JZeVxNGjR3V78OBB3Zp6LjQ+Pq5r1+ybC126dElthXzJ52Evz0FvdszffPONbgu5B8l52bVT1Bd3wH/00UdVh7xXW0f0+ouHtBLoZkdqXLt2Tbdmxwr44Tfwb9++7cxt27t3r27v37+vWzezj5WwN19mZTLkLil57vz5884S1BPP99FPTEyoU6dOqdbWVrWysuIs/R8prHQ6recfP35ctGe+FKLHtw9cnD9b0sjtdXIbpgT86dOn1fHjx4uGezXbvKWlRWWz2Z31JbTliF1CXDqCukmnveHh4Z1RGmWneOjQoV3jP8j7S82ur687SyoTdK3MzMyoq1evOo8qI9u8Ul999ZV65513nEeVq+Y9/AjjfWrxHuVeQ2pfvtju37+/4lqRDqESzqZuzT5VjtrHxsactbaZmjbPFa4rryVnwaS2zevK70+1R/dJ3y/W637dc9BLj/o33nhDzxcrGLPjLbfjjPNGr9eCCILsAOXoplTAG9Vsczn1LkflZv3CMHczz5kvAcWCvnCdagRdK/fu3St6FFeOBEulZHTLW7duOY8qV817+BHG+/h9D6lxCfFC8rruL7fV1IqXoHfXtLyXnKqXdeXnTG0T9Mn9/J5t/aM92yoe2WLP+/v7dQc8QzqLSC98eW6ruJylu/l8+0DF+bPZqpptLnXlri+pRZkMec68nnQ6kvmtHaR+LK08luWGqWUvvP5cXCT988dB4Z0lWwH//MKFC7qTqVs127qw85208liWFzLPmRoX8lg63pnflWKTee1Kyc8kWdI/v1e+/tVbRxo7gW5urzO97WVyF10xcd7o9VoQUap2m5vANpNb4bLCnZ17B1dsJ1kN9/skUdI/fxyYoC8V8EY12/plX1BN73lTy+4vu4VfhN0KX6ca8nNJlvTP75Xvf7WEvRSOCXyZzLfIl4nzRq/XgohSUrd50muFWvdPgr5cwBvVbutyX1ALg958MTBTsSN/QdDXH99/ptaPOF8vqdtrORFK6jbnuiUqRa1Eq15r3fPtdQAAIP4IegAALEbQAwBgMYIeAACLEfQAAFiMoAcAwGIEPQAAFiPoAQCwWOQD5sRZPQ6sEKWkDmbBICKoFLUSrXqtdUbGK4GdX/iSus3Z+aFS1Eq06rXWOXUPAIDFCHoAACxG0AMAYDGCHgAAixH0AABYjKAHAMBiBD0AABYj6AEAsJjnAXMymYyanp52HpWWSqXU5uam8+hFcR68gEFEwifbHNGg1sNBjUevHmvdc9CPjo6qmzdvOo92W19fV9lslqAHACBCgQ2B29PTo+bn59W5c+fUxx9/7Cx9EUEPAECwAgn6jY0NlU6n9bwc1Tc3N+v5QgQ9AADBCqQz3qVLl3Q7MDBQMuQBAEDwan5E7z6aX1xcVB0dHXq+GI7oAQAIVs2P6K9fv67b7u7usiEPAACCV9Ogz+Vy6ne/+52eP378uG4BAEB0ahr0f/nLX1Q+n9en7uU+ewAAEK2aBv2f//xn3f7qV7/SLQAAiFbNgn5qampngJy+vj5nKQAAiFLNgv78+fO6lVvqGhsb9TwAAIhWTYJ+aWlJH82LEydO6BYAAESvJkH/29/+VrcMkAMAQLz4Dvq1tTU9pr04evSobgEAQDz4Dvq///3vumWAHAAA4iewv15XCYbABQAgWDXrdQ8AAOKHoAcAwGIEPQAAFiPoAQCwGEEPAIDFCHoAACxG0AMAYDGCHgAAi0U+YE6cMWAOACDpGBmvBEbGAwDYgFP3AABYjKAHAMBiBD0AABYj6AEAsBhBDwCAxQh6AAAsRtADAGAxgh4AAIv5DvqlpSWVyWRUQ0ODHmRGpra2NjU6OqpyuZyzFgAAiIKvkfEmJibUqVOn9Hw6nVYtLS063FdXV/Wy1tZWtbKyoueLYWQ8AACC5TnoNzY2dLiLyclJfVRvyFH+oUOH9Hzhc24EPQAAwfJ86n55eVm3ctReGOQdHR2qu7tbzz948EC3AAAgfJ6D/jvf+Y5u8/m8bkt59dVXnTkAABA2z0H/1ltvqVQqpbLZrBocHHSWbpuamlLz8/P6+b6+PmcpAAAIm6/OeGtra6qzs1Mf1cup+l/84hfqX//6l/rkk0/09fsvvvhCHThwwFl7N67RAwAQLN9/j1465ckRvRzBG/39/epPf/qTamxsdJYUR9ADABAs3/fRX79+fadjnumANz09rX784x/rI34AABAdz0Ev98vLwDjDw8Oqvb1dX6ufm5vTrQS+HOHLaX3CHgCA6HgO+t///vd6YBw5TS8B39zcrJdLK48HBgb0tfsf/ehHejkAAAif52v0MuStBPni4qK+b76Qe0CdUm/BNXoAAILl+Yje3D//3//+V7eFnj175swBAICoeA56OWUvLly4oI/e3eT6/U9/+lM9bzroAQCA8Hk+de++h17IULjmdjpzq50MmHPr1q2S99Jz6h4AgGD5uo9ejtylU97CwsLOX6wTEvrvv/++OnHiRNl76Ql6AACC5XvAHD8IegAAguV7wBwAABBfBD0AABYj6AEAsBhBDwCAxQh6AAAsRtADAGAxgh4AAIsR9AAAWCzyAXPijAFzAABJx8h4JTAyHgDABpy6BwDAYgQ9AAAWI+gBALAYQQ8AgMUIegAALEbQAwBgMYIeAACLEfQAAFjMd9AvLS2pTCajB5gxkzyW5QAAIFq+RsYbHBxU4+Pjer61tVU1Njaq5eVllc/n9bLZ2VnV29ur54thZDwAAILlOehv3Lih3n33XT1fGOjmC0AqlVL/+c9/9BeAYgh6AACC5fnU/Weffabbc+fO7Tpqv3jxog55ObL/8ssvnaUAACBsnoN+YWFBtz/4wQ906yZH8HKdXty+fVu3AAAgfJ6D3lyHL6WpqUm3GxsbugUAAOHzHPTpdFq3//73v3VbaN++fc4cAACIiueg7+rq0u3Zs2fV2tqanjfkKH5mZsZ5BAAAouK5130ul1Ovv/76zil8c3vd+vq6ymazepno7u5Wc3NzzqMX0eseAIBgeT6il1CXW+cGBgb0afzV1VU1Pz+ve9tLT/wrV644awIAgKh4DnohYT82NqaP4uXoV6aVlRX18ccfq6dPn+p13nzzTd0CAIDw+Qr6cj7//HPdfu9739MtAAAIn68hcEsxo+bJKX052i+Fa/QAAATL8xG99Kwv7G0vJiYm1LFjx/T8H//4R90CAIBoeD6iHx0dVcPDw7rzXXt7u17m/oM2k5OTO6PjlcIRPQAAwfIc9HI0L0fvMhSuuZ1OTtXL/fUffPCBam5u1svKIegBAAhWINfoK0XQAwAQrMB63QMAgOgR9AAAWIygBwDAYgQ9AAAWI+gBALAYQQ8AgMUIegAALEbQAwBgMYIeAACLRT4yXpwxMh4AIOkiDXoAABAsTt0DAGAxgh4AAIsR9AAAWIygBwDAYgQ9AAAWI+gBALAYQQ8AgMUIegAALEbQAwBgMYIeAACLEfQAAFiMoAcAwGIEPQAAFiPoAQCwGEEPAIDFCHoAACxG0AMAYC2l/h/zb6B6YtXJMwAAAABJRU5ErkJggg==)\n",
        "\n",
        "\n",
        "Una vez tengamos todos los elementos en sus respectivos **buckets** se ordenan utilizando el algoritmo **Insertion Sort**, para luego insertar los elementos de cada bucket en nuestro arreglo original.\n"
      ],
      "metadata": {
        "id": "Tymv0R9ji-CD"
      }
    },
    {
      "cell_type": "markdown",
      "source": [
        "## 3. Código"
      ],
      "metadata": {
        "id": "dE1sT4YkgpEj"
      }
    },
    {
      "cell_type": "code",
      "source": [
        "import random\n",
        "from termcolor import colored\n",
        "import copy\n",
        "\n",
        "\n",
        "#Insertion Sort para ordenar los elementos de los buckets\n",
        "\n",
        "def insertion_sort(a):\n",
        "  n = len(a)\n",
        "  respaldo = 0\n",
        "\n",
        "  for i in range (1,len(a)):\n",
        "    respaldo = i    \n",
        "    key = a[i]\n",
        "    for k in range (i - 1,-1,-1):\n",
        "      if a[k] < key:\n",
        "        a[k + 1] = key\n",
        "        break\n",
        "\n",
        "      a[k + 1] = a[k]\n",
        "      a[k] = key\n",
        "\n",
        "    i = respaldo\n",
        "\n",
        "    if key < a[0]:\n",
        "      a[0] = key\n",
        "  return a\n",
        "\n",
        "def bucketSort(A,verbose):\n",
        "  bucket = []\n",
        "\n",
        "  #Crear buckets\n",
        "  for i in range(10):\n",
        "    bucket.append([])\n",
        "  if verbose == True:\n",
        "    print(\"Creacion de buckets...\")\n",
        "    print(bucket)\n",
        "    print(\"\\n================================================================\")\n",
        "\n",
        "  #Insertar elementos en los buckets\n",
        "  if verbose == True:\n",
        "      print(\"Insertar elementos en los buckets correspondientes...\")\n",
        "  cont = 0\n",
        "  for j in A:\n",
        "    idx = int(10 * j)\n",
        "    bucket[idx].append(j)\n",
        "    if verbose == True:\n",
        "      print(\"Elemento a agregar: \",j)\n",
        "      cont +=1\n",
        "      print(cont,'-',bucket)\n",
        "      print(\"\\n================================================================\")\n",
        "\n",
        "  #Ordenar elementos de cada bucket\n",
        "\n",
        "\n",
        "   #Ordenar elementos de cada bucket\n",
        "  if verbose == True:\n",
        "      print(\"Ordenar elementos de cada bucket con InsertionSort\")\n",
        "  for i in range(len(bucket)):\n",
        "      if verbose == True:\n",
        "          print(colored(bucket[i],\"red\"),\" Ordenando...\")\n",
        "      \n",
        "      bucket[i] = insertion_sort(bucket[i])\n",
        "      \n",
        "      if verbose == True:\n",
        "          print(colored(bucket[i],\"blue\"),\" Ordenado!\")\n",
        "          print(\"------------------\")\n",
        "          \n",
        "\n",
        "  if verbose == True:\n",
        "    print(\"Insertar elementos de los buckets ordenados en nuestro arreglo original\")\n",
        "    if verbose == True:\n",
        "      print(\"Arreglo de entrada: \",A)\n",
        "  k = 0\n",
        "  #Insertar elementos de los buckets ordenados en nuestro arreglo original\n",
        "  for i in range(len(bucket)):\n",
        "      for j in range(len(bucket[i])):\n",
        "          if verbose == True:\n",
        "            print(\"\\nnúmero\",bucket[i][j])\n",
        "          A[k] = bucket[i][j]\n",
        "          if verbose == True:\n",
        "            print(colored(str(A[:k+1])[1:-1],\"green\"),str(A[k+1:])[1:-1])\n",
        "\n",
        "          k += 1\n",
        "\n",
        "  return A\n",
        "\n",
        "A = [0.67 , 0.26 , 0.42 , 0.23 , 0.64]\n",
        "print(\"Arreglo de entrada: \",A)\n",
        "verbose = False\n",
        "bucketSort(A,verbose)\n",
        "print(\"Arreglo de salida: \",A)\n",
        "\n",
        "\n"
      ],
      "metadata": {
        "colab": {
          "base_uri": "https://localhost:8080/"
        },
        "id": "o0IloqcygVkx",
        "outputId": "cf74fc61-956b-4798-98f2-2cb3aa9a65bc"
      },
      "execution_count": 10,
      "outputs": [
        {
          "output_type": "stream",
          "name": "stdout",
          "text": [
            "Arreglo de entrada:  [0.67, 0.26, 0.42, 0.23, 0.64]\n",
            "Arreglo de salida:  [0.23, 0.26, 0.42, 0.64, 0.67]\n"
          ]
        }
      ]
    },
    {
      "cell_type": "markdown",
      "source": [
        "## 2.1 verbose == `True`\n",
        "\n"
      ],
      "metadata": {
        "id": "GnZg-BmVvqNJ"
      }
    },
    {
      "cell_type": "code",
      "source": [
        "A = [0.67 , 0.29 , 0.42 , 0.22 , 0.64, 0.25]\n",
        "bucketSort(A,verbose = True)\n",
        "print(\"\\nArreglo de salida: \",A)"
      ],
      "metadata": {
        "colab": {
          "base_uri": "https://localhost:8080/"
        },
        "id": "0wO3GA8vPKcE",
        "outputId": "d12e2eaa-eed2-4210-a862-f4248fdd99f7"
      },
      "execution_count": null,
      "outputs": [
        {
          "output_type": "stream",
          "name": "stdout",
          "text": [
            "Creacion de buckets...\n",
            "[[], [], [], [], [], [], [], [], [], []]\n",
            "\n",
            "================================================================\n",
            "Insertar elementos en los buckets correspondientes...\n",
            "Elemento a agregar:  0.67\n",
            "1 - [[], [], [], [], [], [], [0.67], [], [], []]\n",
            "\n",
            "================================================================\n",
            "Elemento a agregar:  0.29\n",
            "2 - [[], [], [0.29], [], [], [], [0.67], [], [], []]\n",
            "\n",
            "================================================================\n",
            "Elemento a agregar:  0.42\n",
            "3 - [[], [], [0.29], [], [0.42], [], [0.67], [], [], []]\n",
            "\n",
            "================================================================\n",
            "Elemento a agregar:  0.22\n",
            "4 - [[], [], [0.29, 0.22], [], [0.42], [], [0.67], [], [], []]\n",
            "\n",
            "================================================================\n",
            "Elemento a agregar:  0.64\n",
            "5 - [[], [], [0.29, 0.22], [], [0.42], [], [0.67, 0.64], [], [], []]\n",
            "\n",
            "================================================================\n",
            "Elemento a agregar:  0.25\n",
            "6 - [[], [], [0.29, 0.22, 0.25], [], [0.42], [], [0.67, 0.64], [], [], []]\n",
            "\n",
            "================================================================\n",
            "Ordenar elementos de cada bucket con InsertionSort\n",
            "\u001b[31m[]\u001b[0m  Ordenando...\n",
            "\u001b[34m[]\u001b[0m  Ordenado!\n",
            "------------------\n",
            "\u001b[31m[]\u001b[0m  Ordenando...\n",
            "\u001b[34m[]\u001b[0m  Ordenado!\n",
            "------------------\n",
            "\u001b[31m[0.29, 0.22, 0.25]\u001b[0m  Ordenando...\n",
            "\u001b[34m[0.22, 0.25, 0.29]\u001b[0m  Ordenado!\n",
            "------------------\n",
            "\u001b[31m[]\u001b[0m  Ordenando...\n",
            "\u001b[34m[]\u001b[0m  Ordenado!\n",
            "------------------\n",
            "\u001b[31m[0.42]\u001b[0m  Ordenando...\n",
            "\u001b[34m[0.42]\u001b[0m  Ordenado!\n",
            "------------------\n",
            "\u001b[31m[]\u001b[0m  Ordenando...\n",
            "\u001b[34m[]\u001b[0m  Ordenado!\n",
            "------------------\n",
            "\u001b[31m[0.67, 0.64]\u001b[0m  Ordenando...\n",
            "\u001b[34m[0.64, 0.67]\u001b[0m  Ordenado!\n",
            "------------------\n",
            "\u001b[31m[]\u001b[0m  Ordenando...\n",
            "\u001b[34m[]\u001b[0m  Ordenado!\n",
            "------------------\n",
            "\u001b[31m[]\u001b[0m  Ordenando...\n",
            "\u001b[34m[]\u001b[0m  Ordenado!\n",
            "------------------\n",
            "\u001b[31m[]\u001b[0m  Ordenando...\n",
            "\u001b[34m[]\u001b[0m  Ordenado!\n",
            "------------------\n",
            "Insertar elementos de los buckets ordenados en nuestro arreglo original\n",
            "Arreglo de entrada:  [0.67, 0.29, 0.42, 0.22, 0.64, 0.25]\n",
            "\n",
            "número 0.22\n",
            "\u001b[32m0.22\u001b[0m 0.29, 0.42, 0.22, 0.64, 0.25\n",
            "\n",
            "número 0.25\n",
            "\u001b[32m0.22, 0.25\u001b[0m 0.42, 0.22, 0.64, 0.25\n",
            "\n",
            "número 0.29\n",
            "\u001b[32m0.22, 0.25, 0.29\u001b[0m 0.22, 0.64, 0.25\n",
            "\n",
            "número 0.42\n",
            "\u001b[32m0.22, 0.25, 0.29, 0.42\u001b[0m 0.64, 0.25\n",
            "\n",
            "número 0.64\n",
            "\u001b[32m0.22, 0.25, 0.29, 0.42, 0.64\u001b[0m 0.25\n",
            "\n",
            "número 0.67\n",
            "\u001b[32m0.22, 0.25, 0.29, 0.42, 0.64, 0.67\u001b[0m \n",
            "\n",
            "Arreglo de salida:  [0.22, 0.25, 0.29, 0.42, 0.64, 0.67]\n"
          ]
        }
      ]
    },
    {
      "cell_type": "markdown",
      "source": [
        "# 3. Tiempo de ejecución\n",
        "\n",
        "La complejidad temporal del algoritmo es distinta dependiendo de como están distribuidos los elementos en el arreglo. Observemos los distintos casos.\n",
        "\n",
        "# 3.1 Mejor caso teórico\n",
        "En el caso de que agregemos solo un valor a cada bucket este ya se encontrará de manera ordenada. Por lo que nos da una complejidad de $O(n)$.\n",
        "\n",
        "\n",
        "# 3.2 Peor caso teórico\n",
        "Como bien sabemos, el algoritmo **bucketsort** actúa utilizando los llamados **buckets** para almacenar los elementos que estén en un mismo rango, o bien como en la implementación anterior, que posean la misma decena de número. Sin embargo, ¿Qué sucede cuando todos los elementos de un arreglo de entrada están dentro de un mismo rango de bucket? En ese caso todos los números quedarán ingresados dentro de un mismo bucket. Por lo que el tiempo de ejecución del algoritmo terminará dependiendo en gran medida del algoritmo de ordenamiento que utilizemos para ordenar los elementos de los buckets. En el caso de **InsertionSort** nos quedaría una complejidad temporal de $O(n^2)$.\n",
        "\n",
        "# 3.3 Caso promedio\n",
        "El algoritmo realiza varios ciclos **for** que recorren el arreglo en su totalidad. Obteniendo una comlejidad $O(n)$. sin embargo, en uno de los varios ciclos **for** se hacen $n$ llamadas a **InsertionSort**. Obteniendo la siguiente ecuación.\n",
        "\n",
        "$T(n) =$ $\\sum\\limits_{i=0}^{n-1}O(nᵢ^2)$\n",
        "\n",
        "La sumatoria describe lo que tardarán las llamadas a **InsertionSort**. $nᵢ$ corresponde al número de elementos que tendrá que ordenar **InsertionSort**.\n",
        "Las llamadas de hacen para todo el arreglo, por lo que la sumatoria es desde 0->n-1.\n",
        "\n",
        "Para encontrar el valor esperado se puede establecer una expresión para definir cual será el término al cual se debe calcular un valor esperado.\n",
        "\n",
        "$E[T(n)] = $ $E[Θ(n) + \\sum\\limits_{i=0}^{n-1}O(nᵢ^2)]$\n",
        "\n",
        "$=$ $Θ(n) + \\sum\\limits_{i=0}^{n-1}E[O(nᵢ^2)]$\n",
        "\n",
        "$=$ $Θ(n) + \\sum\\limits_{i=0}^{n-1}O[E(nᵢ^2)]$\n",
        "\n",
        "En el que $E[nᵢ^2]$ corresponde al valor a calcular.\n",
        "\n",
        "Para expresar el cálculo del valor esperado tomaremos en cuenta de que cada elemento del arreglo tiene la misma probabilidad de caer en un $bucket[i]$, por lo que se define un indicador de variable que represente este evento.\n",
        "\n",
        "$Xᵢⱼ =$ $I${$A[j]$ queda en bucket i}\n",
        "\n",
        "Considerando que $i$ varía entre 0 -> n-1 y $j$ que representa un índice superior a i) varía entre 1 -> n. El valor de $nᵢ$ sería:\n",
        "\n",
        "$n = \\sum\\limits_{j=1}^{n}Xᵢⱼ$\n",
        "\n",
        "Si reemplazamos $nᵢ$ en el valor esperado y desarrollando la expresión, quedaría:\n",
        "\n",
        "$E[nᵢⱼ^2] =$ $E[(\\sum\\limits_{j=1}^{n}Xᵢⱼ)^2]$\n",
        "\n",
        "$ = E[\\sum\\limits_{j=1}^{n}Xᵢⱼ \\sum\\limits_{k=1}^{n}Xᵢₖ]$   \n",
        "\n",
        "$Xᵢₖ$ corresponde al evento en el que $A[k]$ cae en un bucket $i$.\n",
        "\n",
        "$ = E[\\sum\\limits_{j=1}^{n}X^2ᵢⱼ + \\sum\\limits_{1 \\leq j \\leq n} \\sum\\limits_{1 \\leq k \\leq n}Xᵢⱼ Xᵢₖ]$ \n",
        "\n",
        "(En el que $k \\neq j$)\n",
        "\n",
        "$ = \\sum\\limits_{j=1}^{n}E[X^2ᵢⱼ] + \\sum\\limits_{1 \\leq j \\leq n} \\sum\\limits_{1 \\leq k \\leq n}E[Xᵢⱼ Xᵢₖ]$\n",
        "\n",
        "\n",
        "Ahora se evalúan los valores de las sumatorias en función de obtener valores concretos para trabajar. $Xᵢⱼ$ es un evento que tiene una probabilidad de $1/n$ de ocurrir y $1-1/n$ de no ocurrir. Esto resulta en:\n",
        "\n",
        "$E[X^2ᵢⱼ]$ $= 1^2 * \\frac{1}{n} + 0^2 * (1 - \\frac{1}{n})$\n",
        "\n",
        "$ = \\frac{1}{n}$\n",
        "\n",
        "\n",
        "Xᵢₖ al ser una operación independiente, pero que se basa en la lógica de las otras, tiene la misma expresión de probabilidad.\n",
        "\n",
        "$E[XᵢⱼXᵢₖ] = $ E[Xᵢⱼ] E[Xᵢₖ]\n",
        "\n",
        "$ = \\frac{1}{n}*\\frac{1}{n}$\n",
        "\n",
        "$ = \\frac{1}{n^2}$\n",
        "\n",
        "Teniendo los valores anteriores, se pueden desarrollar las sumatorias de la expresion $E[nᵢ^2]$\n",
        "\n",
        "$E[nᵢ^2] = \\sum\\limits_{j=1}^{n}\\frac{1}{n} + \\sum\\limits_{1 \\leq j \\leq n} \\sum\\limits_{1 \\leq k \\leq n}\\frac{1}{n^2}$\n",
        "\n",
        "$ = n*\\frac{1}{n}+n(n-1)*\\frac{1}{n^2}$\n",
        "\n",
        "$ = 1 + \\frac{n-1}{n}$\n",
        "\n",
        "$ = 2 - \\frac{1}{n}$\n",
        "\n",
        "Como ya tenemos nuestro valor de $E[nᵢ^2]$, se puede obtener el siguiente tiempo de ejecución: \n",
        "\n",
        "$T(n) = Θ(n) + \\sum\\limits_{i=0}^{n-1}O(nᵢ^2)$\n",
        "\n",
        "$T(n) = Θ(n) + \\sum\\limits_{i=0}^{n-1}O(2-\\frac{1}{n})$\n",
        "\n",
        "$T(n) = Θ(n) + n * O(2-\\frac{1}{n})$\n",
        "\n",
        "$T(n) = Θ(n) + O(2n-1) = Θ(n)$\n",
        "\n",
        "\n",
        "Por lo tanto, el tiempo de ejecución en un caso promedio es $Θ(n)$\n"
      ],
      "metadata": {
        "id": "aCpIspGZbF9N"
      }
    },
    {
      "cell_type": "markdown",
      "source": [
        "# 4. Correctitud\n",
        "\n",
        "**Inducción matemática**\n",
        "\n",
        "Para probar la correctitud, utilizaremos el metodo de inducción matemática, básicamente consisten en que si queremos probar alguna declaración $P(n)$ debemos probar un par de condiciones.\n",
        "\n",
        "1. Probar un caso base para $P(n)$ como $P(1)$\n",
        "2. Probar que si $P(m)$ es verdad para m < n, entonces P(n) también lo es.\n",
        "\n",
        "Consideremos que para un $Bucket[i]$ que esté en el arreglo **B** de $n$ Buckets, este contendrá elementos en un rango [1/n * i ... 1/n * (i+1)]. Además, cada $Bucket[i]$ contiene datos que son menores a los de otro Bucket [i+1], por tanto, los elementos del Bucket $B[1] < B[2] <... B[n-1] < B[n]$.\n",
        "\n",
        "Para P(1), cuando hay un solo elemento en el $Bucket[i]$, significa que no se deben ordenar elementos, por lo cual, este Bucket está ordenado.\n",
        "\n",
        "Para P(m) elementos en un $Bucket[i]$, sabemos que InsertionSort ordena elementos con éxito un arreglo **C** y esto se probó con su propiedad invariante de bucle, en otra ocasión, por tanto, el $Bucket[i]$, contendrá los mismos elementos ordenados de menor a mayor una vez se aplique InsertionSort.\n",
        "\n",
        "Como anteriormente se mencionó, cada Bucket contiene elementos menores a los que contienen los Buckets posteriores, y cada Bucket contiene datos ordenados luego de aplicar InsertionSort, en consecuencia, se puede intuir que ya tenemos un arreglo **B** con los elementos de **A** ordenados de menor a mayor. Solo es necesario reemplazar los elementos de **B** en **A** desde 0 hasta **n**.\n",
        "\n"
      ],
      "metadata": {
        "id": "mR61HYxfnlsu"
      }
    },
    {
      "cell_type": "markdown",
      "source": [
        "# 5. Experimentos\n",
        "\n",
        "A continuación se realizarán dos experimentos. Primero se comparara el algoritmo **Radix Sort** con **BucketSort** para ordenar números enteros.\n",
        "Luego, se compararan los tiempos de ejecución de **InsertionSort**, **BubbleSort** y **BucketSort**.\n",
        "\n",
        "\n",
        "## 5.1 RadixSort vs BucketSort\n",
        "\n",
        "Para el experimento utilizaremos un tamaño de arreglo de $[5,249]$. El arreglo de entrada contendrá números entre 1 y 250\n",
        "\n"
      ],
      "metadata": {
        "id": "yjP-tmEq9PMU"
      }
    },
    {
      "cell_type": "code",
      "source": [
        "def countingSort(arr, exp1):\n",
        " \n",
        "    n = len(arr)\n",
        " \n",
        "    output = [0] * (n)\n",
        " \n",
        "    count = [0] * (10)\n",
        " \n",
        "    for i in range(0, n):\n",
        "        index = arr[i] // exp1\n",
        "        count[index % 10] += 1\n",
        "\n",
        "    for i in range(1, 10):\n",
        "        count[i] += count[i - 1]\n",
        " \n",
        "    i = n - 1\n",
        "    while i >= 0:\n",
        "        index = arr[i] // exp1\n",
        "        output[count[index % 10] - 1] = arr[i]\n",
        "        count[index % 10] -= 1\n",
        "        i -= 1\n",
        " \n",
        "\n",
        "    i = 0\n",
        "    for i in range(0, len(arr)):\n",
        "        arr[i] = output[i]\n",
        " \n",
        "def radixSort(arr):\n",
        " \n",
        "    max1 = max(arr)\n",
        " \n",
        "\n",
        "    exp = 1\n",
        "    while max1 / exp >= 1:\n",
        "        countingSort(arr, exp)\n",
        "        exp *= 10\n",
        " \n",
        " "
      ],
      "metadata": {
        "id": "78Svmsmr-xoW"
      },
      "execution_count": 18,
      "outputs": []
    },
    {
      "cell_type": "code",
      "source": [
        "def bucketSortInt(array):\n",
        "    largest = max(array)\n",
        "    length = len(array)\n",
        "    size = largest/length\n",
        " \n",
        "    buckets = [[] for i in range(length)]\n",
        " \n",
        "    for i in range(length):\n",
        "        index = int(array[i]/size)\n",
        "        if index != length:\n",
        "            buckets[index].append(array[i])\n",
        "        else:\n",
        "            buckets[length - 1].append(array[i])\n",
        " \n",
        "    for i in range(len(array)):\n",
        "        buckets[i] = insertion_sort(buckets[i])\n",
        " \n",
        " \n",
        "    result = []\n",
        "    for i in range(length):\n",
        "        result = result + buckets[i]\n",
        "             \n",
        " \n"
      ],
      "metadata": {
        "id": "LtiaCupW_Adc"
      },
      "execution_count": 11,
      "outputs": []
    },
    {
      "cell_type": "code",
      "source": [
        "from matplotlib import cm\n",
        "import matplotlib.pyplot as plt\n",
        "import datetime\n",
        "from timeit import repeat\n",
        "\n",
        "x=[]; y=[]\n",
        "ix=[]; by=[]\n",
        "\n",
        "\n",
        "for n in range(5,250):\n",
        "  comp = 0\n",
        "  verbose = False\n",
        "  p = 0\n",
        "  a = random.sample(range(1, 250), n)\n",
        "  r = len(a)-1\n",
        "  q = int((p+r)/2)\n",
        "\n",
        "  z = repeat(setup=\"from __main__ import radixSort\", stmt=f\"radixSort({a})\", repeat=1, number=10)\n",
        "\n",
        "  ix.append(n)\n",
        "  by.append(z)\n",
        "\n",
        "\n",
        "  t = repeat(setup=\"from __main__ import bucketSortInt\", stmt=f\"bucketSortInt({a})\", repeat=1, number=10)\n",
        "  x.append(n)\n",
        "  y.append(t)\n",
        "\n",
        "plt.plot(ix,by)\n",
        "\n",
        "plt.plot(x,y)\n",
        "\n",
        "\n",
        "plt.legend([\"RadixSort\",\"BucketSort\"])\n",
        "\n",
        "plt.xlabel('tamaño del arreglo')\n",
        "plt.ylabel('Tiempo')\n",
        "plt.show()"
      ],
      "metadata": {
        "colab": {
          "base_uri": "https://localhost:8080/",
          "height": 279
        },
        "id": "i5Su0KcU_MyL",
        "outputId": "3f0d1325-90ae-489a-88b8-624116193134"
      },
      "execution_count": 73,
      "outputs": [
        {
          "output_type": "display_data",
          "data": {
            "text/plain": [
              "<Figure size 432x288 with 1 Axes>"
            ],
            "image/png": "[encoded data removed]"
          },
          "metadata": {
            "needs_background": "light"
          }
        }
      ]
    },
    {
      "cell_type": "markdown",
      "source": [
        "Como podemos apreciar, el algoritmo **BucketSort** es mas eficiente en tiempo de ejecución que **RadixSort**. Esto se debe a que **RadixSort** opera en un tiempo $O(n*w)$ siendo $w$ la cantidad de claves que utiliza, mientras que bucketSort opera en un tiempo $O(n)$ en los casos promedios como se demostró anteriormente."
      ],
      "metadata": {
        "id": "fYOmOvvgCW3X"
      }
    },
    {
      "cell_type": "markdown",
      "source": [
        "## 5.2 BucketSort con distintos algoritmos de ordenamiento\n",
        "\n",
        "Para este experimento utilizaremos un tamaño de arreglo de $[5,249]$, El arreglo de entrada contendrá números entre 1 y 250"
      ],
      "metadata": {
        "id": "_4NlUyAUGsej"
      }
    },
    {
      "cell_type": "code",
      "source": [
        "\n",
        "def bubble_sort(a, verbose=False):\n",
        "    n = len(a)\n",
        "    T = 0 #contador de comparaciones\n",
        "\n",
        "    if verbose == True: print(\"input array:\",a)\n",
        "\n",
        "    for i in range(1,n+1):\n",
        "        if verbose == True: print(\"\\nPasada\",i)\n",
        "        # Flag que indica si el arreglo ya se encuentra ordenado\n",
        "        already_sorted = True\n",
        "\n",
        "        # Se recorre el arreglo\n",
        "        for j in range(n - i):\n",
        "            T +=1\n",
        "            if a[j] > a[j + 1]:\n",
        "                # Si el elemento es mayor al siguiente se intercambia\n",
        "                a[j], a[j + 1] = a[j + 1], a[j]\n",
        "                if verbose == True: \n",
        "                  print(str(a[:j])[1:-1],\",\",colored(f\"{str(a[j:j+2])[1:-1]}\",\"red\"),\",\",str(a[j+2:])[1:-1])\n",
        "\n",
        "                already_sorted = False\n",
        "\n",
        "        if already_sorted == False and verbose == True: \n",
        "           print(\"\\nAl finalizar pasada:\")\n",
        "           print(str(a[:n-i])[1:-1],\",\",colored(f\"{str(a[n-i:])[1:-1]}\",\"blue\"))\n",
        "\n",
        "        if already_sorted:\n",
        "            if verbose == True: print(\"is sorted!\")\n",
        "            break\n",
        "\n",
        "    if verbose == True: print(\"\\noutput array:\",a)\n",
        "\n",
        "    return a, T\n"
      ],
      "metadata": {
        "id": "MhbFqB0MCd28"
      },
      "execution_count": 32,
      "outputs": []
    },
    {
      "cell_type": "code",
      "source": [
        "def insertion_sort(a):\n",
        "  n = len(a)\n",
        "  respaldo = 0\n",
        "\n",
        "  for i in range (1,len(a)):\n",
        "    respaldo = i    \n",
        "    key = a[i]\n",
        "    for k in range (i - 1,-1,-1):\n",
        "      if a[k] < key:\n",
        "        a[k + 1] = key\n",
        "        break\n",
        "\n",
        "      a[k + 1] = a[k]\n",
        "      a[k] = key\n",
        "\n",
        "    i = respaldo\n",
        "\n",
        "    if key < a[0]:\n",
        "      a[0] = key\n",
        "  return a"
      ],
      "metadata": {
        "id": "55gPmEBDDWJD"
      },
      "execution_count": 36,
      "outputs": []
    },
    {
      "cell_type": "code",
      "source": [
        "from matplotlib import cm\n",
        "import matplotlib.pyplot as plt\n",
        "import datetime\n",
        "from timeit import repeat\n",
        "import random\n",
        "\n",
        "x=[]; y=[]\n",
        "ix=[]; by=[]\n",
        "Ix=[]; By=[]\n",
        "Ax=[]; Cy=[]\n",
        "rx=[]; wy=[]\n",
        "fx=[]; gy=[]\n",
        "\n",
        "for n in range(5,250):\n",
        "  a = random.sample(range(1, 250), n)\n",
        "  verbose = False\n",
        "  z = repeat(setup=\"from __main__ import bucketSortInt\", stmt=f\"bucketSortInt({a})\", repeat=1, number=10)\n",
        "\n",
        "  ix.append(n)\n",
        "  by.append(z)\n",
        "\n",
        "  q = repeat(setup=\"from __main__ import bubble_sort\", stmt=f\"bubble_sort({a},{verbose})\", repeat=1, number=10)\n",
        "  rx.append(n)\n",
        "  wy.append(q)\n",
        "\n",
        "  l = repeat(setup=\"from __main__ import insertion_sort\", stmt=f\"insertion_sort({a})\", repeat=1, number=10)\n",
        "  fx.append(n)\n",
        "  gy.append(l)\n",
        "\n",
        "plt.plot(ix,by)\n",
        "\n",
        "plt.plot(rx,wy)\n",
        "\n",
        "plt.plot(fx,gy)\n",
        "\n",
        "plt.legend([\"BucketSort\",\"BubbleSort\",\"InsertionSort\"])\n",
        "\n",
        "plt.xlabel('tamaño del arreglo')\n",
        "plt.ylabel('Tiempo')\n",
        "plt.show()"
      ],
      "metadata": {
        "colab": {
          "base_uri": "https://localhost:8080/",
          "height": 279
        },
        "id": "F94PtH71IIRf",
        "outputId": "873911f2-cc2f-46ac-bcac-6fbe39588e8a"
      },
      "execution_count": 39,
      "outputs": [
        {
          "output_type": "display_data",
          "data": {
            "text/plain": [
              "<Figure size 432x288 with 1 Axes>"
            ],
            "image/png": "[encoded data removed]"
          },
          "metadata": {
            "needs_background": "light"
          }
        }
      ]
    },
    {
      "cell_type": "markdown",
      "source": [
        "Como podemos apreciar, es interesante el hecho de un algoritmo de ordenamiento como **InsertionSort** que posee un tiempo de ejecución de $O(n^2)$ en el caso promedio, pueda ser extremadamente útil en la implementación de **BucketSort** y que termine con un tiempo de ejecución mucho menor, más específicamente de tipo lineal $O(n)$ en el caso promedio."
      ],
      "metadata": {
        "id": "rStWWKG2FAxr"
      }
    }
  ]
}
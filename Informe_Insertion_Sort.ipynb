{
  "nbformat": 4,
  "nbformat_minor": 0,
  "metadata": {
    "colab": {
      "name": "Informe Insertion Sort.ipynb",
      "provenance": [],
      "collapsed_sections": []
    },
    "kernelspec": {
      "name": "python3",
      "display_name": "Python 3"
    },
    "language_info": {
      "name": "python"
    }
  },
  "cells": [
    {
      "cell_type": "markdown",
      "source": [
        "# 1. Descripción del problema\n",
        "\n",
        "**Entrada:** Arreglo (o lista) de **n** elementos \n",
        "\n",
        "**Salida:** Permutacion ordenada del arreglo de entrada \n",
        "\n",
        "Los problemas de ordenamiento son muy comunes en el area de la programación, por ese motivo se han buscado distintos metodos para poder ordenar un cierta cantidad de elementos, entre ellos esta el algoritmo del Insertion Sort, que es un forma bastante simple y natural de ordenar números.\n",
        "\n",
        "\n"
      ],
      "metadata": {
        "id": "HDfR4HVSOg2r"
      }
    },
    {
      "cell_type": "markdown",
      "source": [
        "# 2. Insertion Sort\n",
        "\n",
        "A continuacion se describrá el algoritmo ***Insertion Sort*** y un código con su implementación."
      ],
      "metadata": {
        "id": "IIUQjJUwSHTm"
      }
    },
    {
      "cell_type": "markdown",
      "source": [
        "## 2.1 Descripción Del algoritmo\n",
        "\n",
        "El algoritmo recibe de entrada un arreglo o lista **A** de **n** elementos que queremos ordenar, luego de una serie de permutaciones los números quedarán ordenados dentro del arreglo.\n",
        "<!-- \n",
        "Al inicio solo se tiene un elemento, por lo que el conjunto esta ordenado. Una vez que hay i elementos ordenados en el arreglo se toma el elemento i + 1 y se comparan con todos los elementos ya ordenados. -->\n",
        "\n",
        "1. El algoritmo recorre el arreglo comparando `a[i]` con `a[i + 1]` siendo `i` el numero de elementos ya ordenados. Si `a[i]` > `a[i+1]` se realiza el intercambio. Esta comparacion se realiza con los anteriores elementos ya ordenados.\n",
        "\n",
        "2. Una vez todos los elementos del arreglo se encuentran ordenados o bien se haya terminado de recorrerlo finaliza el algoritmo.\n",
        "\n",
        "3. Cuando solo hay un elemento en el arreglo se asume que ya esta ordenado.\n",
        "\n",
        "4. Al final se retorna el arreglo de entrada ya ordenado.\n",
        "\n",
        "La siguiente imagen muestra de manera clara la lógica de ordenamiento."
      ],
      "metadata": {
        "id": "qkpUOjRtTCny"
      }
    },
    {
      "cell_type": "markdown",
      "source": [
        "![aa.png](data:image/png;base64,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)"
      ],
      "metadata": {
        "id": "Py3oY-BL2JH4"
      }
    },
    {
      "cell_type": "markdown",
      "source": [
        "## 2.2 Ejemplo:\n",
        "Tomemos un arreglo \"A\"\n",
        "\n",
        "**A = [5,3,7,2,4]**\n",
        "\n",
        "3 es menor que el 5, realizamos el cambio.\n",
        "\n",
        "**A = [3,5,7,2,4]**\n",
        "\n",
        "7 no es menor que 5 asi que queda igual.\n",
        "\n",
        "2 es menor a 7, a 5 y a 3, entonces realizamos el cambio. Nos queda: \n",
        "\n",
        "**A = [2,3,5,7,4]**\n",
        "\n",
        "4 es menor a 7 y a 5, entonces nos queda:\n",
        "\n",
        "**A = [2,3,4,5,7]**\n",
        "\n",
        "Arreglo ordenado.\n",
        "\n"
      ],
      "metadata": {
        "id": "Xw9Q5MvHhdcD"
      }
    },
    {
      "cell_type": "markdown",
      "source": [
        "## 2.3 Código"
      ],
      "metadata": {
        "id": "UxCeS3LCS2pK"
      }
    },
    {
      "cell_type": "code",
      "source": [
        "import random\n",
        "from termcolor import colored\n",
        "import copy\n",
        "\n",
        "\n",
        "def insertion_sort(a,verbose=False):\n",
        "  n = len(a)\n",
        "  contador = 0 #contador de comparaciones\n",
        "  aux = 0\n",
        "  respaldo = 0\n",
        "\n",
        "  if verbose == True: print (\"Input array: \",a)\n",
        "\n",
        "  for i in range (1,len(a)):\n",
        "    sorted = True\n",
        "    respaldo = i\n",
        "    \n",
        "    if verbose == True: print(\"\\nPasada \",i)\n",
        "    key = a[i]\n",
        "\n",
        "    for k in range (i - 1,-1,-1):\n",
        "      contador += 1\n",
        "      \n",
        "      if a[k] < key:\n",
        "        a[k + 1] = key\n",
        "        break\n",
        "\n",
        "      #Verbose\n",
        "      if verbose == True: \n",
        "        if sorted == False:\n",
        "          i -= 1\n",
        "        print(str(a[:i])[1:-1],\",\",colored(f\"{str(a[i:i+1])[1:-1]}\",\"red\"),str(a[i+1:])[1:-1])\n",
        "        sorted = False\n",
        "\n",
        "      aux += 1\n",
        "      a[k + 1] = a[k]\n",
        "      a[k] = key\n",
        "\n",
        "    i = respaldo\n",
        "\n",
        "    if key < a[0]:\n",
        "      a[0] = key\n",
        "    \n",
        "    aux += 1\n",
        "\n",
        "\n",
        "    #Verbose\n",
        "    if verbose == True: \n",
        "      print(\"\\nÚltimo Cambio:\")\n",
        "      #print(str(a)[1:-1])\n",
        "      print(colored(f\"{str(a[:i+1])[1:-1]}\",\"blue\"),str(a[i + 1:])[1:-1])\n",
        "\n",
        "  if verbose == True: print(\"\\noutput array:\",a)\n",
        "  aux = aux / n - 1\n",
        "  return a,contador,aux\n",
        "\n",
        "\n",
        "#Arreglo de ejemplo:\n",
        "A = [5,7,2,4,1]\n",
        "print(\"Entrada : \",A)\n",
        "A,counter,aux = insertion_sort(A)\n",
        "print(\"Salida : \",A)\n",
        "print(\"Comparaciones : \",counter)\n",
        "print(\"promedio retroceso: \",aux)\n"
      ],
      "metadata": {
        "colab": {
          "base_uri": "https://localhost:8080/"
        },
        "id": "U_VN8Qs8sJeJ",
        "outputId": "1d9c106b-d6bd-494f-f5c7-b83308ca9466"
      },
      "execution_count": null,
      "outputs": [
        {
          "output_type": "stream",
          "name": "stdout",
          "text": [
            "Entrada :  [5, 7, 2, 4, 1]\n",
            "Salida :  [1, 2, 4, 5, 7]\n",
            "Comparaciones :  10\n",
            "promedio retroceso:  1.4\n"
          ]
        }
      ]
    },
    {
      "cell_type": "markdown",
      "source": [
        "## 2.4 Ejecución del algoritmo paso a paso `Verbose = True`"
      ],
      "metadata": {
        "id": "R4LM289F2ldv"
      }
    },
    {
      "cell_type": "code",
      "source": [
        "import random\n",
        "a = random.sample(range(1, 50), 7)\n",
        "a,c,aux= insertion_sort(a,verbose=True)"
      ],
      "metadata": {
        "id": "vN5b_N-f2_uk",
        "colab": {
          "base_uri": "https://localhost:8080/"
        },
        "outputId": "71113d94-cf2d-475a-eea4-fdcacd514b95"
      },
      "execution_count": null,
      "outputs": [
        {
          "output_type": "stream",
          "name": "stdout",
          "text": [
            "Input array:  [28, 23, 1, 4, 18, 13, 19]\n",
            "\n",
            "Pasada  1\n",
            "28 , \u001b[31m23\u001b[0m 1, 4, 18, 13, 19\n",
            "\n",
            "Último Cambio:\n",
            "\u001b[34m23, 28\u001b[0m 1, 4, 18, 13, 19\n",
            "\n",
            "Pasada  2\n",
            "23, 28 , \u001b[31m1\u001b[0m 4, 18, 13, 19\n",
            "23 , \u001b[31m1\u001b[0m 28, 4, 18, 13, 19\n",
            "\n",
            "Último Cambio:\n",
            "\u001b[34m1, 23, 28\u001b[0m 4, 18, 13, 19\n",
            "\n",
            "Pasada  3\n",
            "1, 23, 28 , \u001b[31m4\u001b[0m 18, 13, 19\n",
            "1, 23 , \u001b[31m4\u001b[0m 28, 18, 13, 19\n",
            "\n",
            "Último Cambio:\n",
            "\u001b[34m1, 4, 23, 28\u001b[0m 18, 13, 19\n",
            "\n",
            "Pasada  4\n",
            "1, 4, 23, 28 , \u001b[31m18\u001b[0m 13, 19\n",
            "1, 4, 23 , \u001b[31m18\u001b[0m 28, 13, 19\n",
            "\n",
            "Último Cambio:\n",
            "\u001b[34m1, 4, 18, 23, 28\u001b[0m 13, 19\n",
            "\n",
            "Pasada  5\n",
            "1, 4, 18, 23, 28 , \u001b[31m13\u001b[0m 19\n",
            "1, 4, 18, 23 , \u001b[31m13\u001b[0m 28, 19\n",
            "1, 4, 18 , \u001b[31m13\u001b[0m 23, 28, 19\n",
            "\n",
            "Último Cambio:\n",
            "\u001b[34m1, 4, 13, 18, 23, 28\u001b[0m 19\n",
            "\n",
            "Pasada  6\n",
            "1, 4, 13, 18, 23, 28 , \u001b[31m19\u001b[0m \n",
            "1, 4, 13, 18, 23 , \u001b[31m19\u001b[0m 28\n",
            "\n",
            "Último Cambio:\n",
            "\u001b[34m1, 4, 13, 18, 19, 23, 28\u001b[0m \n",
            "\n",
            "output array: [1, 4, 13, 18, 19, 23, 28]\n"
          ]
        }
      ]
    },
    {
      "cell_type": "markdown",
      "source": [
        "El color rojo muestra el número que se desplaza a la posición que le corresponde. El color azul muestra los números ya ordenados."
      ],
      "metadata": {
        "id": "MTzsLAWvXLDT"
      }
    },
    {
      "cell_type": "markdown",
      "source": [
        "## 3. Correctitud\n",
        "\n",
        "El algoritmo Insertion Sort genera un arreglo con los mismos elementos del arreglo de entrada ordenados de menor a mayor.\n",
        "\n",
        "Para probar que el algoritmo es correcto utilizaremos la propiedad **invariante de bucle**, para ello tomaremos dos consideraciones.\n",
        "\n",
        "1. La propiedad sera verdadera en antes de la primera iteracion. Esto se le conoce como Inicialización.\n",
        "\n",
        "2. La propiedad sera verdadera antes y después de la iteración. Esto se le conoce como Manteción.\n",
        "\n",
        "En la inicialización la variable **i** comienza en 1, por lo tanto `a[0..i-1]` corresponde al primer valor del arreglo que es trivialmente verdadero.\n",
        "\n",
        "Por otro lado en la mantención analizamos lo que ocurre en la i-ésima iteración. Antes de comenzar la iteración asumimos que el arreglo ya se encuentra ordenado y sus elementos son los mismos de entrada. Entonces, cuando iteramos movemos el nuevo elemento hasta la posición que le corresponde. Por lo tanto, después de la iteración, el arreglo seguirá estando ordenado.\n",
        "\n",
        "Como ambas afirmaciones son verdaderas, se cumple la propiedad.\n",
        "\n",
        "\n",
        "\n",
        "\n"
      ],
      "metadata": {
        "id": "uMLc78foJvTg"
      }
    },
    {
      "cell_type": "markdown",
      "source": [
        "## 4. Tiempo de Ejecución\n",
        "\n",
        "Teorema (Tiempo de ejecución).\n",
        "El algoritmo Insertion Sort tiene un tiempo de ejecución de $O(n^2)$  en el peor caso. Esto ocurre cuando se quiere ordenar un arreglo de menor a mayor y los elementos de entrada se encuentran en orden de mayor a menor. Por ejemplo:\n",
        "\n"
      ],
      "metadata": {
        "id": "xso5EcTLTouS"
      }
    },
    {
      "cell_type": "code",
      "source": [
        "a =[6,4,3,1];\n",
        "print(\"Entrada no ordenada:\",a)\n",
        "a,counter,aux=insertion_sort(a,True)\n",
        "print(\"Salida ordenada:\",a)\n",
        "print(\"Total de comparaciones realizadas:\",counter)"
      ],
      "metadata": {
        "colab": {
          "base_uri": "https://localhost:8080/"
        },
        "id": "x045jLk1G5a-",
        "outputId": "71479fea-8e6b-4485-8bfb-f34244841c09"
      },
      "execution_count": null,
      "outputs": [
        {
          "output_type": "stream",
          "name": "stdout",
          "text": [
            "Entrada no ordenada: [6, 4, 3, 1]\n",
            "Input array:  [6, 4, 3, 1]\n",
            "\n",
            "Pasada  1\n",
            "6 , \u001b[31m4\u001b[0m 3, 1\n",
            "\n",
            "Último Cambio:\n",
            "\u001b[34m4, 6\u001b[0m 3, 1\n",
            "\n",
            "Pasada  2\n",
            "4, 6 , \u001b[31m3\u001b[0m 1\n",
            "4 , \u001b[31m3\u001b[0m 6, 1\n",
            "\n",
            "Último Cambio:\n",
            "\u001b[34m3, 4, 6\u001b[0m 1\n",
            "\n",
            "Pasada  3\n",
            "3, 4, 6 , \u001b[31m1\u001b[0m \n",
            "3, 4 , \u001b[31m1\u001b[0m 6\n",
            "3 , \u001b[31m1\u001b[0m 4, 6\n",
            "\n",
            "Último Cambio:\n",
            "\u001b[34m1, 3, 4, 6\u001b[0m \n",
            "\n",
            "output array: [1, 3, 4, 6]\n",
            "Salida ordenada: [1, 3, 4, 6]\n",
            "Total de comparaciones realizadas: 6\n"
          ]
        }
      ]
    },
    {
      "cell_type": "markdown",
      "source": [
        "El tiempo de ejecución tambien se puede ver de manera mas simple observando los ciclos anidados que tiene el algoritmo, uno externo que se itera n veces y otro interno que también itera n veces, obteniendo una complejidad $O(n^2)$"
      ],
      "metadata": {
        "id": "Izg36jVIO9sm"
      }
    },
    {
      "cell_type": "markdown",
      "source": [
        "## 5. Experimentos\n",
        "\n",
        "\n",
        "A continuación se realizarán experimentos de:\n",
        "1. cantidad de comparaciones en el mejor y peor caso.\n",
        "2. Mostrar que sucede cuando se utiliza en un arreglo casi completamente ordenado.\n",
        "3. Comparar los tiempos de ejecución con el algoritmo **BubbleSort**\n",
        "\n"
      ],
      "metadata": {
        "id": "63Vi1B8QS-Ay"
      }
    },
    {
      "cell_type": "markdown",
      "source": [
        "### 5.1 Número de comparaciones"
      ],
      "metadata": {
        "id": "taGeN8CUTJI0"
      }
    },
    {
      "cell_type": "markdown",
      "source": [
        "Se establece que el tamaño del problema es $n \\in [5,24]$ y el arreglo de entrada son números entre 1 y 100 "
      ],
      "metadata": {
        "id": "E-NvigSw2WpT"
      }
    },
    {
      "cell_type": "code",
      "source": [
        "import matplotlib.pyplot as plt\n",
        "\n",
        "x=[n for n in range(5,25)] \n",
        "y1=[n*(n-1)/2 for n in range(5,25)] # worst case\n",
        "y2=[n-1 for n in range(5,25)] # best case\n",
        "y=[]; \n",
        "\n",
        "for n in range(5,25):\n",
        "  a = random.sample(range(1, 100), n)\n",
        "  a,counter,aux = insertion_sort(a)\n",
        "  y.append(counter)\n",
        "\n",
        "plt.plot(x,y)\n",
        "plt.plot(x,y1)\n",
        "plt.plot(x,y2)\n",
        "plt.legend([\"Insertion_sort\", \"theoretical worst case\", \"theoretical best case\"])\n",
        "\n",
        "plt.xlabel('n')\n",
        "plt.ylabel('number of operations')\n",
        "plt.show()"
      ],
      "metadata": {
        "colab": {
          "base_uri": "https://localhost:8080/",
          "height": 279
        },
        "id": "UUp6y-57VGJw",
        "outputId": "97a139e3-19ab-48d5-dc04-602adb692c96"
      },
      "execution_count": null,
      "outputs": [
        {
          "output_type": "display_data",
          "data": {
            "text/plain": [
              "<Figure size 432x288 with 1 Axes>"
            ],
            "image/png": "[encoded data removed]"
          },
          "metadata": {
            "needs_background": "light"
          }
        }
      ]
    },
    {
      "cell_type": "markdown",
      "source": [
        "Podemos observar que el tiempo de ejecución está entre el peor y mejor caso teórico, con una distancia similar entre ambos."
      ],
      "metadata": {
        "id": "o8vvzNLt3N8C"
      }
    },
    {
      "cell_type": "markdown",
      "source": [
        "### 5.2 Diferencia de comparaciones\n",
        "\n",
        "Tenemos dos arreglos de igual tamaño que utilizan el mismo algoritmo de Insertion Sort, sin embargo, uno de ellos tiene de entrada números casi ordenados, mientras que otro son totalmente aleatorios. En base al algoritmo implementado anteriormente se puede distingir facilmente que la cantidad de comparaciones va aumentando a medida que los elementos del arreglo estén mas desordenaos. No solo eso, si no también su media de retrocesos como muestra el ejemplo:"
      ],
      "metadata": {
        "id": "kE8LC77kVloK"
      }
    },
    {
      "cell_type": "code",
      "source": [
        "\n",
        "a = [2,3,4,5,6,7,8,9,10,14,11,12,13,15,16,17,18,19,20,21]\n",
        "b = random.sample(range(1, 50), 20)\n",
        "\n",
        "a,counter1,aux1 = insertion_sort(a)\n",
        "a,counter2,aux2 = insertion_sort(b)\n",
        "\n",
        "print(\"comparaciones arreglo casi ordenado: \",counter1)\n",
        "print(\"promedio retroceso: \",aux1)\n",
        "print(\"comparaciones arreglo casi ordenado: \",counter2)\n",
        "print(\"promedio retroceso: \",aux2)"
      ],
      "metadata": {
        "colab": {
          "base_uri": "https://localhost:8080/"
        },
        "id": "j0EMKsbabzvQ",
        "outputId": "326c6f3f-5c1c-49b0-cbbc-8414f04485a2"
      },
      "execution_count": null,
      "outputs": [
        {
          "output_type": "stream",
          "name": "stdout",
          "text": [
            "comparaciones arreglo casi ordenado:  22\n",
            "promedio retroceso:  0.10000000000000009\n",
            "comparaciones arreglo casi ordenado:  134\n",
            "promedio retroceso:  5.7\n"
          ]
        }
      ]
    },
    {
      "cell_type": "markdown",
      "source": [
        "### 5.3 Tiempo de ejecución de Insertion Sort y BubbleSort\n",
        "\n",
        "A continuación se muestra el tiempo de ejecución del algoritmo Insertion Sort y del BubbleSort en función del tamaño del problema para arreglos generados aleatoriamente de tamaños entre  5  y  500"
      ],
      "metadata": {
        "id": "R9M1SU5J4JK8"
      }
    },
    {
      "cell_type": "markdown",
      "source": [
        "**BubbleSort:**"
      ],
      "metadata": {
        "id": "iVTxNNdbOWRB"
      }
    },
    {
      "cell_type": "code",
      "source": [
        "import random\n",
        "from termcolor import colored\n",
        "import copy\n",
        "\n",
        "def bubble_sort(a, verbose=False):\n",
        "    n = len(a)\n",
        "    T = 0 #contador de comparaciones\n",
        "\n",
        "    if verbose == True: print(\"input array:\",a)\n",
        "\n",
        "    for i in range(1,n+1):\n",
        "        if verbose == True: print(\"\\nPasada\",i)\n",
        "        # Flag que indica si el arreglo ya se encuentra ordenado\n",
        "        already_sorted = True\n",
        "\n",
        "        # Se recorre el arreglo\n",
        "        for j in range(n - i):\n",
        "            T +=1\n",
        "            if a[j] > a[j + 1]:\n",
        "                # Si el elemento es mayor al siguiente se intercambia\n",
        "                a[j], a[j + 1] = a[j + 1], a[j]\n",
        "                if verbose == True: \n",
        "                  print(str(a[:j])[1:-1],\",\",colored(f\"{str(a[j:j+2])[1:-1]}\",\"red\"),\",\",str(a[j+2:])[1:-1])\n",
        "\n",
        "                already_sorted = False\n",
        "\n",
        "        if already_sorted == False and verbose == True: \n",
        "           print(\"\\nAl finalizar pasada:\")\n",
        "           print(str(a[:n-i])[1:-1],\",\",colored(f\"{str(a[n-i:])[1:-1]}\",\"blue\"))\n",
        "\n",
        "        if already_sorted:\n",
        "            if verbose == True: print(\"is sorted!\")\n",
        "            break\n",
        "\n",
        "    if verbose == True: print(\"\\noutput array:\",a)\n",
        "\n",
        "    return a, T\n",
        "\n",
        "# Ejemplo\n",
        "A = [5,8,7,1,3]\n",
        "print(\"Entrada: \",A)\n",
        "A, counter = bubble_sort(A)\n",
        "print(\"Salida: \",A)\n",
        "print(\"# comparaciones: \", counter)"
      ],
      "metadata": {
        "id": "dwIm7ZYh6oNR"
      },
      "execution_count": null,
      "outputs": []
    },
    {
      "cell_type": "code",
      "source": [
        "import matplotlib.pyplot as plt\n",
        "import datetime\n",
        "from timeit import repeat\n",
        "\n",
        "x=[]; y=[]\n",
        "ix=[]; by=[]\n",
        "\n",
        "for n in range(5,500):\n",
        "\n",
        "  a = random.sample(range(1, 1000), n)\n",
        "\n",
        "  z = repeat(setup=\"from __main__ import bubble_sort\", stmt=f\"bubble_sort({a})\", repeat=1, number=10)\n",
        "\n",
        "  ix.append(n)\n",
        "  by.append(z)\n",
        "\n",
        "\n",
        "\n",
        "  t = repeat(setup=\"from __main__ import insertion_sort\", stmt=f\"insertion_sort({a})\", repeat=1, number=10)\n",
        "  x.append(n)\n",
        "  y.append(t)\n",
        "\n",
        "plt.plot(ix,by)\n",
        "\n",
        "plt.plot(x,y)\n",
        "\n",
        "\n",
        "plt.legend([\"Bubble Sort\",\"Insertion Sort\"])\n",
        "\n",
        "\n",
        "plt.xlabel('n')\n",
        "plt.ylabel('time in ms')\n",
        "plt.show()"
      ],
      "metadata": {
        "colab": {
          "base_uri": "https://localhost:8080/",
          "height": 279
        },
        "id": "3jqFz6nTWk1Q",
        "outputId": "e10cd478-0753-4bf8-eec5-d73eb8fed0e2"
      },
      "execution_count": null,
      "outputs": [
        {
          "output_type": "display_data",
          "data": {
            "text/plain": [
              "<Figure size 432x288 with 1 Axes>"
            ],
            "image/png": "[encoded data removed]"
          },
          "metadata": {
            "needs_background": "light"
          }
        }
      ]
    },
    {
      "cell_type": "markdown",
      "source": [
        "Como podemos apreciar, hay una clara diferencia en el tiempo de ejecución entre ambos algoritmos. A medida que va aumentando el tamaño del arreglo, el algoritmo BubbleSort va agrandando la brecha de tiempo con el InsertionSort."
      ],
      "metadata": {
        "id": "ZDoGnWLuMChj"
      }
    }
  ]
}